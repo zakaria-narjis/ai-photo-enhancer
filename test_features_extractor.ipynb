{
 "cells": [
  {
   "cell_type": "code",
   "execution_count": 4,
   "metadata": {},
   "outputs": [
    {
     "name": "stderr",
     "output_type": "stream",
     "text": [
      "Using cache found in /home/zakaria/.cache/torch/hub/pytorch_vision_v0.10.0\n",
      "/home/zakaria/miniconda3/envs/photoen/lib/python3.11/site-packages/torchvision/models/_utils.py:208: UserWarning: The parameter 'pretrained' is deprecated since 0.13 and may be removed in the future, please use 'weights' instead.\n",
      "  warnings.warn(\n",
      "/home/zakaria/miniconda3/envs/photoen/lib/python3.11/site-packages/torchvision/models/_utils.py:223: UserWarning: Arguments other than a weight enum or `None` for 'weights' are deprecated since 0.13 and may be removed in the future. The current behavior is equivalent to passing `weights=ResNet18_Weights.IMAGENET1K_V1`. You can also use `weights=ResNet18_Weights.DEFAULT` to get the most up-to-date weights.\n",
      "  warnings.warn(msg)\n"
     ]
    },
    {
     "data": {
      "text/plain": [
       "ResNet(\n",
       "  (conv1): Conv2d(3, 64, kernel_size=(7, 7), stride=(2, 2), padding=(3, 3), bias=False)\n",
       "  (bn1): BatchNorm2d(64, eps=1e-05, momentum=0.1, affine=True, track_running_stats=True)\n",
       "  (relu): ReLU(inplace=True)\n",
       "  (maxpool): MaxPool2d(kernel_size=3, stride=2, padding=1, dilation=1, ceil_mode=False)\n",
       "  (layer1): Sequential(\n",
       "    (0): BasicBlock(\n",
       "      (conv1): Conv2d(64, 64, kernel_size=(3, 3), stride=(1, 1), padding=(1, 1), bias=False)\n",
       "      (bn1): BatchNorm2d(64, eps=1e-05, momentum=0.1, affine=True, track_running_stats=True)\n",
       "      (relu): ReLU(inplace=True)\n",
       "      (conv2): Conv2d(64, 64, kernel_size=(3, 3), stride=(1, 1), padding=(1, 1), bias=False)\n",
       "      (bn2): BatchNorm2d(64, eps=1e-05, momentum=0.1, affine=True, track_running_stats=True)\n",
       "    )\n",
       "    (1): BasicBlock(\n",
       "      (conv1): Conv2d(64, 64, kernel_size=(3, 3), stride=(1, 1), padding=(1, 1), bias=False)\n",
       "      (bn1): BatchNorm2d(64, eps=1e-05, momentum=0.1, affine=True, track_running_stats=True)\n",
       "      (relu): ReLU(inplace=True)\n",
       "      (conv2): Conv2d(64, 64, kernel_size=(3, 3), stride=(1, 1), padding=(1, 1), bias=False)\n",
       "      (bn2): BatchNorm2d(64, eps=1e-05, momentum=0.1, affine=True, track_running_stats=True)\n",
       "    )\n",
       "  )\n",
       "  (layer2): Sequential(\n",
       "    (0): BasicBlock(\n",
       "      (conv1): Conv2d(64, 128, kernel_size=(3, 3), stride=(2, 2), padding=(1, 1), bias=False)\n",
       "      (bn1): BatchNorm2d(128, eps=1e-05, momentum=0.1, affine=True, track_running_stats=True)\n",
       "      (relu): ReLU(inplace=True)\n",
       "      (conv2): Conv2d(128, 128, kernel_size=(3, 3), stride=(1, 1), padding=(1, 1), bias=False)\n",
       "      (bn2): BatchNorm2d(128, eps=1e-05, momentum=0.1, affine=True, track_running_stats=True)\n",
       "      (downsample): Sequential(\n",
       "        (0): Conv2d(64, 128, kernel_size=(1, 1), stride=(2, 2), bias=False)\n",
       "        (1): BatchNorm2d(128, eps=1e-05, momentum=0.1, affine=True, track_running_stats=True)\n",
       "      )\n",
       "    )\n",
       "    (1): BasicBlock(\n",
       "      (conv1): Conv2d(128, 128, kernel_size=(3, 3), stride=(1, 1), padding=(1, 1), bias=False)\n",
       "      (bn1): BatchNorm2d(128, eps=1e-05, momentum=0.1, affine=True, track_running_stats=True)\n",
       "      (relu): ReLU(inplace=True)\n",
       "      (conv2): Conv2d(128, 128, kernel_size=(3, 3), stride=(1, 1), padding=(1, 1), bias=False)\n",
       "      (bn2): BatchNorm2d(128, eps=1e-05, momentum=0.1, affine=True, track_running_stats=True)\n",
       "    )\n",
       "  )\n",
       "  (layer3): Sequential(\n",
       "    (0): BasicBlock(\n",
       "      (conv1): Conv2d(128, 256, kernel_size=(3, 3), stride=(2, 2), padding=(1, 1), bias=False)\n",
       "      (bn1): BatchNorm2d(256, eps=1e-05, momentum=0.1, affine=True, track_running_stats=True)\n",
       "      (relu): ReLU(inplace=True)\n",
       "      (conv2): Conv2d(256, 256, kernel_size=(3, 3), stride=(1, 1), padding=(1, 1), bias=False)\n",
       "      (bn2): BatchNorm2d(256, eps=1e-05, momentum=0.1, affine=True, track_running_stats=True)\n",
       "      (downsample): Sequential(\n",
       "        (0): Conv2d(128, 256, kernel_size=(1, 1), stride=(2, 2), bias=False)\n",
       "        (1): BatchNorm2d(256, eps=1e-05, momentum=0.1, affine=True, track_running_stats=True)\n",
       "      )\n",
       "    )\n",
       "    (1): BasicBlock(\n",
       "      (conv1): Conv2d(256, 256, kernel_size=(3, 3), stride=(1, 1), padding=(1, 1), bias=False)\n",
       "      (bn1): BatchNorm2d(256, eps=1e-05, momentum=0.1, affine=True, track_running_stats=True)\n",
       "      (relu): ReLU(inplace=True)\n",
       "      (conv2): Conv2d(256, 256, kernel_size=(3, 3), stride=(1, 1), padding=(1, 1), bias=False)\n",
       "      (bn2): BatchNorm2d(256, eps=1e-05, momentum=0.1, affine=True, track_running_stats=True)\n",
       "    )\n",
       "  )\n",
       "  (layer4): Sequential(\n",
       "    (0): BasicBlock(\n",
       "      (conv1): Conv2d(256, 512, kernel_size=(3, 3), stride=(2, 2), padding=(1, 1), bias=False)\n",
       "      (bn1): BatchNorm2d(512, eps=1e-05, momentum=0.1, affine=True, track_running_stats=True)\n",
       "      (relu): ReLU(inplace=True)\n",
       "      (conv2): Conv2d(512, 512, kernel_size=(3, 3), stride=(1, 1), padding=(1, 1), bias=False)\n",
       "      (bn2): BatchNorm2d(512, eps=1e-05, momentum=0.1, affine=True, track_running_stats=True)\n",
       "      (downsample): Sequential(\n",
       "        (0): Conv2d(256, 512, kernel_size=(1, 1), stride=(2, 2), bias=False)\n",
       "        (1): BatchNorm2d(512, eps=1e-05, momentum=0.1, affine=True, track_running_stats=True)\n",
       "      )\n",
       "    )\n",
       "    (1): BasicBlock(\n",
       "      (conv1): Conv2d(512, 512, kernel_size=(3, 3), stride=(1, 1), padding=(1, 1), bias=False)\n",
       "      (bn1): BatchNorm2d(512, eps=1e-05, momentum=0.1, affine=True, track_running_stats=True)\n",
       "      (relu): ReLU(inplace=True)\n",
       "      (conv2): Conv2d(512, 512, kernel_size=(3, 3), stride=(1, 1), padding=(1, 1), bias=False)\n",
       "      (bn2): BatchNorm2d(512, eps=1e-05, momentum=0.1, affine=True, track_running_stats=True)\n",
       "    )\n",
       "  )\n",
       "  (avgpool): AdaptiveAvgPool2d(output_size=(1, 1))\n",
       "  (fc): Linear(in_features=512, out_features=1000, bias=True)\n",
       ")"
      ]
     },
     "execution_count": 4,
     "metadata": {},
     "output_type": "execute_result"
    }
   ],
   "source": [
    "import torch\n",
    "model = torch.hub.load('pytorch/vision:v0.10.0', 'resnet18', pretrained=True)\n",
    "import cv2\n",
    "from torchvision import transforms\n",
    "model.eval()"
   ]
  },
  {
   "cell_type": "code",
   "execution_count": 5,
   "metadata": {},
   "outputs": [],
   "source": [
    "newmodel = torch.nn.Sequential(*(list(model.children())[:-1]))"
   ]
  },
  {
   "cell_type": "code",
   "execution_count": null,
   "metadata": {},
   "outputs": [],
   "source": [
    "def get_n_params(model):\n",
    "    pp=0\n",
    "    for p in list(model.parameters()):\n",
    "        nn=1\n",
    "        for s in list(p.size()):\n",
    "            nn = nn*s\n",
    "        pp += nn\n",
    "    return pp"
   ]
  },
  {
   "cell_type": "code",
   "execution_count": 6,
   "metadata": {},
   "outputs": [],
   "source": [
    "image = cv2.imread(\"sample_images/a0676-kme_609.jpg\")\n",
    "image = cv2.cvtColor(image, cv2.COLOR_BGR2RGB) \n",
    "input = cv2.resize(image, (64, 64)) / 255.0\n",
    "preprocess = transforms.Compose([\n",
    "    transforms.ToTensor(),\n",
    "    transforms.Normalize(mean=[0.485, 0.456, 0.406], std=[0.229, 0.224, 0.225]),\n",
    "])\n",
    "input_tensor = preprocess(input).unsqueeze(0).type(torch.float32)\n",
    "pred =newmodel(input_tensor)"
   ]
  },
  {
   "cell_type": "code",
   "execution_count": 7,
   "metadata": {},
   "outputs": [
    {
     "data": {
      "text/plain": [
       "torch.Size([1, 512, 1, 1])"
      ]
     },
     "execution_count": 7,
     "metadata": {},
     "output_type": "execute_result"
    }
   ],
   "source": [
    "pred.shape"
   ]
  },
  {
   "cell_type": "code",
   "execution_count": null,
   "metadata": {},
   "outputs": [],
   "source": [
    "image = cv2.imread(\"sample_images/a0676-kme_609_c.jpg\")\n",
    "image = cv2.cvtColor(image, cv2.COLOR_BGR2RGB) \n",
    "input = cv2.resize(image, (64, 64)) / 255.0\n",
    "preprocess = transforms.Compose([\n",
    "    transforms.ToTensor(),\n",
    "    transforms.Normalize(mean=[0.485, 0.456, 0.406], std=[0.229, 0.224, 0.225]),\n",
    "])\n",
    "input_tensor = preprocess(input).unsqueeze(0).type(torch.float32)\n",
    "target =newmodel(input_tensor)"
   ]
  },
  {
   "cell_type": "code",
   "execution_count": null,
   "metadata": {},
   "outputs": [],
   "source": [
    "# import os \n",
    "# os.chdir('envs')"
   ]
  },
  {
   "cell_type": "code",
   "execution_count": 6,
   "metadata": {},
   "outputs": [
    {
     "name": "stdout",
     "output_type": "stream",
     "text": [
      "Encoding testing data ...\n"
     ]
    },
    {
     "data": {
      "application/vnd.jupyter.widget-view+json": {
       "model_id": "071e810537d34b3f8957a6f75a50d592",
       "version_major": 2,
       "version_minor": 0
      },
      "text/plain": [
       "  0%|          | 0/4 [00:00<?, ?it/s]"
      ]
     },
     "metadata": {},
     "output_type": "display_data"
    },
    {
     "name": "stdout",
     "output_type": "stream",
     "text": [
      "finished...\n",
      "Encoding training data ...\n"
     ]
    },
    {
     "data": {
      "application/vnd.jupyter.widget-view+json": {
       "model_id": "d793795ee7ef4fff959aa41364f87729",
       "version_major": 2,
       "version_minor": 0
      },
      "text/plain": [
       "  0%|          | 0/36 [00:00<?, ?it/s]"
      ]
     },
     "metadata": {},
     "output_type": "display_data"
    },
    {
     "name": "stdout",
     "output_type": "stream",
     "text": [
      "finished...\n"
     ]
    }
   ],
   "source": [
    "from envs.env_dataloader import create_dataloaders\n",
    "train,test = create_dataloaders()"
   ]
  },
  {
   "cell_type": "code",
   "execution_count": 7,
   "metadata": {},
   "outputs": [],
   "source": [
    "f=train.dataset.encoded_source"
   ]
  },
  {
   "cell_type": "code",
   "execution_count": 46,
   "metadata": {},
   "outputs": [
    {
     "name": "stdout",
     "output_type": "stream",
     "text": [
      "20\n"
     ]
    }
   ],
   "source": [
    "c=0\n",
    "for i,j,k,l in train:\n",
    "    c+=1\n",
    "    if c==20:\n",
    "        break\n",
    "print(c)"
   ]
  },
  {
   "cell_type": "code",
   "execution_count": 52,
   "metadata": {},
   "outputs": [
    {
     "data": {
      "text/plain": [
       "71"
      ]
     },
     "execution_count": 52,
     "metadata": {},
     "output_type": "execute_result"
    }
   ],
   "source": [
    "len(train)"
   ]
  },
  {
   "cell_type": "code",
   "execution_count": 57,
   "metadata": {},
   "outputs": [
    {
     "name": "stdout",
     "output_type": "stream",
     "text": [
      "71\n"
     ]
    }
   ],
   "source": [
    "a= iter(train)\n",
    "c=0\n",
    "while True:\n",
    "    if c==len(a):\n",
    "        break\n",
    "    first = next(a) \n",
    "    c+=1\n",
    "print(c)"
   ]
  },
  {
   "cell_type": "code",
   "execution_count": 63,
   "metadata": {},
   "outputs": [
    {
     "data": {
      "text/plain": [
       "[tensor([[[[ 46,  37,  29,  ...,  30,  31,  32],\n",
       "           [ 46,  37,  22,  ...,  19,  19,  24],\n",
       "           [ 45,  45,  36,  ...,  15,   4,   5],\n",
       "           ...,\n",
       "           [ 99,  97, 109,  ..., 127, 147, 172],\n",
       "           [109, 109, 109,  ..., 127, 134, 139],\n",
       "           [109, 108, 115,  ..., 134, 136, 138]],\n",
       " \n",
       "          [[ 47,  38,  23,  ...,  32,  33,  33],\n",
       "           [ 46,  38,  22,  ...,  21,  20,  27],\n",
       "           [ 45,  45,  37,  ...,  16,   5,   8],\n",
       "           ...,\n",
       "           [ 98,  94,  98,  ..., 116, 139, 161],\n",
       "           [101, 101,  98,  ..., 115, 123, 128],\n",
       "           [ 96,  95, 102,  ..., 121, 126, 127]],\n",
       " \n",
       "          [[ 46,  37,  22,  ...,  31,  32,  30],\n",
       "           [ 46,  37,  21,  ...,  20,  20,  25],\n",
       "           [ 43,  44,  37,  ...,  16,   7,   9],\n",
       "           ...,\n",
       "           [ 99,  96,  94,  ..., 113, 138, 159],\n",
       "           [ 97,  97,  92,  ..., 111, 119, 124],\n",
       "           [ 90,  87,  93,  ..., 117, 123, 124]]],\n",
       " \n",
       " \n",
       "         [[[129, 130, 130,  ...,  84,  83,  82],\n",
       "           [144, 148, 149,  ...,  83,  82,  81],\n",
       "           [134, 137, 140,  ...,  77,  76,  78],\n",
       "           ...,\n",
       "           [152, 152, 151,  ...,  73,  73,  71],\n",
       "           [151, 152, 152,  ...,  72,  70,  71],\n",
       "           [150, 151, 152,  ...,  71,  71,  73]],\n",
       " \n",
       "          [[129, 131, 131,  ...,  80,  79,  77],\n",
       "           [144, 151, 152,  ...,  78,  77,  76],\n",
       "           [134, 139, 144,  ...,  72,  70,  72],\n",
       "           ...,\n",
       "           [156, 156, 157,  ...,  70,  69,  67],\n",
       "           [155, 156, 156,  ...,  68,  66,  67],\n",
       "           [155, 155, 156,  ...,  66,  67,  68]],\n",
       " \n",
       "          [[130, 135, 133,  ...,  45,  46,  46],\n",
       "           [144, 154, 157,  ...,  46,  46,  46],\n",
       "           [130, 136, 145,  ...,  43,  43,  45],\n",
       "           ...,\n",
       "           [168, 168, 169,  ...,  43,  44,  42],\n",
       "           [167, 168, 168,  ...,  44,  41,  41],\n",
       "           [167, 167, 168,  ...,  44,  42,  42]]],\n",
       " \n",
       " \n",
       "         [[[122, 122, 121,  ..., 114, 114, 113],\n",
       "           [120, 120, 120,  ..., 113, 113, 113],\n",
       "           [120, 119, 119,  ..., 112, 113, 113],\n",
       "           ...,\n",
       "           [ 99, 113, 121,  ...,  51,  54,  58],\n",
       "           [ 73, 118, 134,  ...,  51,  57,  55],\n",
       "           [ 98, 109, 128,  ...,  60,  72,  48]],\n",
       " \n",
       "          [[124, 124, 124,  ..., 118, 118, 117],\n",
       "           [124, 124, 124,  ..., 117, 117, 117],\n",
       "           [124, 123, 123,  ..., 116, 117, 117],\n",
       "           ...,\n",
       "           [ 98, 112, 120,  ...,  47,  50,  54],\n",
       "           [ 72, 119, 134,  ...,  48,  52,  51],\n",
       "           [ 96, 110, 129,  ...,  56,  68,  45]],\n",
       " \n",
       "          [[134, 136, 134,  ..., 129, 129, 128],\n",
       "           [134, 135, 133,  ..., 128, 128, 128],\n",
       "           [132, 134, 134,  ..., 127, 128, 128],\n",
       "           ...,\n",
       "           [100, 117, 126,  ...,  45,  48,  53],\n",
       "           [ 73, 124, 142,  ...,  46,  50,  49],\n",
       "           [ 99, 114, 135,  ...,  54,  65,  42]]],\n",
       " \n",
       " \n",
       "         ...,\n",
       " \n",
       " \n",
       "         [[[ 64,  64,  64,  ...,  57,  57,  56],\n",
       "           [ 65,  64,  64,  ...,  57,  58,  57],\n",
       "           [ 66,  66,  66,  ...,  58,  58,  58],\n",
       "           ...,\n",
       "           [ 95, 127, 130,  ...,  49,  55,  87],\n",
       "           [122, 127, 130,  ...,  50,  49,  54],\n",
       "           [124, 128, 128,  ...,  50,  49,  48]],\n",
       " \n",
       "          [[ 83,  83,  83,  ...,  76,  76,  75],\n",
       "           [ 84,  83,  83,  ...,  76,  77,  76],\n",
       "           [ 84,  84,  84,  ...,  77,  77,  77],\n",
       "           ...,\n",
       "           [102, 132, 134,  ...,  66,  70,  96],\n",
       "           [127, 131, 134,  ...,  66,  65,  70],\n",
       "           [128, 132, 132,  ...,  66,  66,  66]],\n",
       " \n",
       "          [[ 98,  98,  98,  ...,  93,  93,  92],\n",
       "           [ 99,  98,  98,  ...,  94,  93,  92],\n",
       "           [ 99,  98,  99,  ...,  93,  92,  91],\n",
       "           ...,\n",
       "           [105, 132, 133,  ...,  82,  85, 104],\n",
       "           [127, 131, 133,  ...,  82,  83,  84],\n",
       "           [129, 131, 131,  ...,  82,  82,  82]]],\n",
       " \n",
       " \n",
       "         [[[162, 161, 161,  ..., 135, 135, 134],\n",
       "           [165, 164, 164,  ..., 137, 137, 136],\n",
       "           [168, 168, 167,  ..., 139, 138, 137],\n",
       "           ...,\n",
       "           [ 29,  29,  30,  ...,  53,  53,  52],\n",
       "           [ 24,  26,  27,  ...,  53,  53,  52],\n",
       "           [ 27,  29,  29,  ...,  53,  54,  54]],\n",
       " \n",
       "          [[207, 206, 206,  ..., 185, 185, 184],\n",
       "           [208, 208, 208,  ..., 187, 187, 186],\n",
       "           [211, 210, 210,  ..., 189, 188, 188],\n",
       "           ...,\n",
       "           [ 29,  28,  28,  ...,  61,  61,  61],\n",
       "           [ 18,  19,  20,  ...,  61,  61,  61],\n",
       "           [ 22,  23,  22,  ...,  62,  63,  63]],\n",
       " \n",
       "          [[255, 254, 255,  ..., 246, 246, 244],\n",
       "           [254, 255, 255,  ..., 247, 248, 247],\n",
       "           [254, 255, 255,  ..., 251, 250, 250],\n",
       "           ...,\n",
       "           [ 28,  27,  25,  ...,  71,  71,  70],\n",
       "           [ 13,  13,  14,  ...,  70,  71,  70],\n",
       "           [ 14,  14,  14,  ...,  69,  70,  70]]],\n",
       " \n",
       " \n",
       "         [[[ 85,  85,  85,  ...,  68,  68,  68],\n",
       "           [ 86,  86,  86,  ...,  70,  70,  69],\n",
       "           [ 88,  87,  87,  ...,  72,  71,  70],\n",
       "           ...,\n",
       "           [ 36,  33,  34,  ...,  35,  46,  46],\n",
       "           [ 34,  30,  38,  ...,  46,  47,  44],\n",
       "           [ 33,  32,  32,  ...,  51,  35,  46]],\n",
       " \n",
       "          [[102, 101, 101,  ...,  89,  89,  89],\n",
       "           [103, 102, 102,  ...,  91,  90,  90],\n",
       "           [104, 104, 103,  ...,  92,  92,  92],\n",
       "           ...,\n",
       "           [ 32,  29,  27,  ...,  30,  36,  38],\n",
       "           [ 29,  27,  31,  ...,  37,  38,  37],\n",
       "           [ 26,  28,  25,  ...,  39,  31,  39]],\n",
       " \n",
       "          [[114, 114, 115,  ..., 106, 106, 106],\n",
       "           [116, 115, 115,  ..., 108, 108, 107],\n",
       "           [117, 117, 117,  ..., 109, 107, 107],\n",
       "           ...,\n",
       "           [ 16,  17,  17,  ...,  13,  17,  19],\n",
       "           [ 18,  15,  21,  ...,  17,  17,  20],\n",
       "           [ 16,  16,  16,  ...,  18,  16,  22]]]], dtype=torch.uint8),\n",
       " tensor([[[[ 53,  35,  23,  ...,  23,  25,  27],\n",
       "           [ 52,  35,   8,  ...,   7,   7,  13],\n",
       "           [ 50,  49,  34,  ...,   3,   0,   0],\n",
       "           ...,\n",
       "           [126, 124, 144,  ..., 163, 178, 195],\n",
       "           [142, 142, 145,  ..., 164, 170, 175],\n",
       "           [145, 144, 152,  ..., 172, 172, 173]],\n",
       " \n",
       "          [[ 62,  45,  16,  ...,  34,  36,  36],\n",
       "           [ 61,  46,  12,  ...,  14,  14,  23],\n",
       "           [ 58,  59,  44,  ...,   6,   0,   0],\n",
       "           ...,\n",
       "           [137, 132, 137,  ..., 159, 181, 196],\n",
       "           [141, 141, 138,  ..., 159, 167, 172],\n",
       "           [135, 133, 142,  ..., 164, 168, 170]],\n",
       " \n",
       "          [[ 64,  47,  16,  ...,  36,  38,  38],\n",
       "           [ 62,  47,  14,  ...,  17,  15,  25],\n",
       "           [ 60,  61,  45,  ...,   8,   0,   0],\n",
       "           ...,\n",
       "           [146, 142, 139,  ..., 162, 186, 201],\n",
       "           [143, 144, 138,  ..., 159, 169, 174],\n",
       "           [131, 128, 137,  ..., 166, 172, 173]]],\n",
       " \n",
       " \n",
       "         [[[104, 105, 105,  ...,  57,  56,  53],\n",
       "           [120, 126, 127,  ...,  55,  54,  52],\n",
       "           [110, 113, 117,  ...,  47,  43,  47],\n",
       "           ...,\n",
       "           [128, 128, 129,  ...,  41,  40,  35],\n",
       "           [128, 128, 129,  ...,  37,  35,  34],\n",
       "           [128, 128, 128,  ...,  37,  37,  39]],\n",
       " \n",
       "          [[122, 125, 124,  ...,  65,  63,  60],\n",
       "           [139, 145, 146,  ...,  62,  61,  59],\n",
       "           [129, 133, 138,  ...,  54,  51,  54],\n",
       "           ...,\n",
       "           [150, 150, 151,  ...,  50,  48,  44],\n",
       "           [150, 150, 151,  ...,  47,  44,  45],\n",
       "           [150, 150, 150,  ...,  45,  46,  47]],\n",
       " \n",
       "          [[135, 141, 140,  ...,   6,   6,   6],\n",
       "           [151, 162, 165,  ...,   8,   9,   8],\n",
       "           [137, 143, 152,  ...,   4,   2,   6],\n",
       "           ...,\n",
       "           [174, 174, 175,  ...,   2,   4,   4],\n",
       "           [174, 174, 175,  ...,   8,   2,   2],\n",
       "           [174, 174, 174,  ...,   7,   2,   2]]],\n",
       " \n",
       " \n",
       "         [[[211, 211, 211,  ..., 203, 203, 203],\n",
       "           [210, 210, 209,  ..., 200, 201, 201],\n",
       "           [210, 209, 208,  ..., 199, 200, 201],\n",
       "           ...,\n",
       "           [173, 201, 209,  ...,  47,  53,  67],\n",
       "           [110, 204, 220,  ...,  46,  67,  55],\n",
       "           [161, 185, 213,  ...,  73, 118,  35]],\n",
       " \n",
       "          [[220, 219, 219,  ..., 214, 213, 213],\n",
       "           [219, 219, 220,  ..., 213, 213, 214],\n",
       "           [219, 220, 219,  ..., 212, 213, 213],\n",
       "           ...,\n",
       "           [180, 207, 215,  ...,  34,  44,  59],\n",
       "           [111, 212, 226,  ...,  37,  53,  51],\n",
       "           [166, 195, 221,  ...,  68, 110,  32]],\n",
       " \n",
       "          [[227, 227, 226,  ..., 223, 223, 223],\n",
       "           [226, 226, 226,  ..., 222, 223, 223],\n",
       "           [226, 226, 225,  ..., 221, 222, 222],\n",
       "           ...,\n",
       "           [172, 204, 215,  ...,  20,  29,  46],\n",
       "           [ 99, 211, 228,  ...,  26,  38,  40],\n",
       "           [153, 188, 219,  ...,  50,  75,  21]]],\n",
       " \n",
       " \n",
       "         ...,\n",
       " \n",
       " \n",
       "         [[[ 93,  93,  93,  ...,  74,  74,  73],\n",
       "           [ 95,  94,  94,  ...,  76,  76,  75],\n",
       "           [ 97,  96,  96,  ...,  77,  76,  76],\n",
       "           ...,\n",
       "           [151, 196, 198,  ...,  60,  74, 140],\n",
       "           [190, 195, 197,  ...,  61,  59,  72],\n",
       "           [193, 195, 195,  ...,  62,  61,  59]],\n",
       " \n",
       "          [[130, 130, 130,  ..., 119, 118, 118],\n",
       "           [131, 131, 131,  ..., 119, 119, 118],\n",
       "           [132, 132, 132,  ..., 121, 120, 120],\n",
       "           ...,\n",
       "           [157, 195, 198,  ..., 102, 109, 150],\n",
       "           [190, 195, 197,  ..., 102, 100, 108],\n",
       "           [191, 195, 195,  ..., 102, 102, 101]],\n",
       " \n",
       "          [[156, 156, 156,  ..., 150, 149, 149],\n",
       "           [156, 156, 157,  ..., 150, 150, 149],\n",
       "           [156, 156, 157,  ..., 150, 149, 149],\n",
       "           ...,\n",
       "           [157, 188, 190,  ..., 135, 137, 158],\n",
       "           [183, 187, 189,  ..., 134, 133, 137],\n",
       "           [184, 187, 187,  ..., 134, 134, 134]]],\n",
       " \n",
       " \n",
       "         [[[165, 164, 164,  ..., 136, 135, 135],\n",
       "           [168, 167, 167,  ..., 139, 138, 137],\n",
       "           [170, 169, 169,  ..., 141, 141, 139],\n",
       "           ...,\n",
       "           [ 21,  22,  22,  ...,  44,  43,  42],\n",
       "           [ 14,  18,  19,  ...,  43,  44,  43],\n",
       "           [ 19,  22,  21,  ...,  44,  44,  44]],\n",
       " \n",
       "          [[195, 194, 193,  ..., 176, 176, 176],\n",
       "           [196, 195, 195,  ..., 178, 177, 177],\n",
       "           [197, 196, 196,  ..., 180, 180, 180],\n",
       "           ...,\n",
       "           [ 21,  20,  20,  ...,  59,  60,  60],\n",
       "           [  6,   8,  10,  ...,  59,  59,  59],\n",
       "           [ 11,  13,  12,  ...,  61,  61,  62]],\n",
       " \n",
       "          [[239, 240, 240,  ..., 235, 235, 234],\n",
       "           [240, 240, 241,  ..., 235, 236, 236],\n",
       "           [241, 241, 241,  ..., 236, 236, 236],\n",
       "           ...,\n",
       "           [ 21,  20,  18,  ...,  78,  78,  78],\n",
       "           [  0,   1,   1,  ...,  76,  78,  77],\n",
       "           [  2,   2,   2,  ...,  77,  78,  78]]],\n",
       " \n",
       " \n",
       "         [[[133, 133, 133,  ..., 116, 116, 115],\n",
       "           [134, 134, 134,  ..., 117, 117, 117],\n",
       "           [136, 135, 135,  ..., 119, 119, 118],\n",
       "           ...,\n",
       "           [ 45,  39,  39,  ...,  44,  66,  72],\n",
       "           [ 41,  31,  47,  ...,  69,  72,  68],\n",
       "           [ 36,  33,  32,  ...,  79,  43,  74]],\n",
       " \n",
       "          [[149, 149, 149,  ..., 137, 137, 137],\n",
       "           [151, 150, 150,  ..., 138, 138, 137],\n",
       "           [153, 152, 151,  ..., 140, 140, 140],\n",
       "           ...,\n",
       "           [ 36,  29,  25,  ...,  32,  50,  56],\n",
       "           [ 30,  23,  34,  ...,  50,  53,  52],\n",
       "           [ 21,  25,  20,  ...,  55,  35,  55]],\n",
       " \n",
       "          [[161, 162, 161,  ..., 156, 156, 155],\n",
       "           [161, 163, 163,  ..., 158, 157, 156],\n",
       "           [163, 163, 164,  ..., 157, 157, 156],\n",
       "           ...,\n",
       "           [  6,   7,   5,  ...,   6,   6,   5],\n",
       "           [  6,   5,  11,  ...,   6,   5,   7],\n",
       "           [  3,   5,   5,  ...,   6,   5,  10]]]], dtype=torch.uint8),\n",
       " tensor([[0.0000, 0.0000, 5.2008,  ..., 2.8235, 0.1948, 0.2725],\n",
       "         [2.3979, 0.0000, 0.6041,  ..., 2.8221, 1.4196, 0.4744],\n",
       "         [0.0000, 0.0000, 0.8631,  ..., 1.4684, 3.8355, 0.4197],\n",
       "         ...,\n",
       "         [4.3115, 1.2025, 5.0394,  ..., 2.0191, 5.0532, 0.0404],\n",
       "         [0.9672, 2.1276, 3.4631,  ..., 0.0000, 1.6954, 0.0000],\n",
       "         [0.6889, 0.0000, 0.5220,  ..., 1.6140, 0.0000, 0.0000]]),\n",
       " tensor([[0.0000, 0.0000, 6.1620,  ..., 0.8104, 1.4522, 0.1728],\n",
       "         [1.9567, 0.0000, 0.9956,  ..., 1.6722, 4.0560, 0.0000],\n",
       "         [0.0632, 0.0000, 3.5644,  ..., 0.8023, 4.8456, 0.0000],\n",
       "         ...,\n",
       "         [4.3957, 1.2618, 4.9803,  ..., 2.2144, 6.0953, 0.1684],\n",
       "         [0.8541, 2.9727, 2.3759,  ..., 0.0000, 2.3181, 0.0000],\n",
       "         [0.0000, 0.0000, 0.0000,  ..., 0.0414, 0.6031, 0.0000]])]"
      ]
     },
     "execution_count": 63,
     "metadata": {},
     "output_type": "execute_result"
    }
   ],
   "source": [
    "a=iter(train)\n",
    "next(a)"
   ]
  },
  {
   "cell_type": "code",
   "execution_count": 47,
   "metadata": {},
   "outputs": [
    {
     "name": "stdout",
     "output_type": "stream",
     "text": [
      "71\n"
     ]
    }
   ],
   "source": [
    "f=0\n",
    "for i,j,k,l in train:\n",
    "    f+=1\n",
    "print(f)"
   ]
  },
  {
   "cell_type": "code",
   "execution_count": 3,
   "metadata": {},
   "outputs": [
    {
     "data": {
      "text/plain": [
       "torch.Size([4500, 512])"
      ]
     },
     "execution_count": 3,
     "metadata": {},
     "output_type": "execute_result"
    }
   ],
   "source": [
    "f.shape"
   ]
  },
  {
   "cell_type": "code",
   "execution_count": null,
   "metadata": {},
   "outputs": [],
   "source": [
    "import torch\n",
    "torch.cat([torch.rand(32,3,64,64),torch.rand(32,3,64,64),torch.rand(1,3,64,64)]).shape"
   ]
  }
 ],
 "metadata": {
  "kernelspec": {
   "display_name": "photoen",
   "language": "python",
   "name": "python3"
  },
  "language_info": {
   "codemirror_mode": {
    "name": "ipython",
    "version": 3
   },
   "file_extension": ".py",
   "mimetype": "text/x-python",
   "name": "python",
   "nbconvert_exporter": "python",
   "pygments_lexer": "ipython3",
   "version": "3.11.9"
  }
 },
 "nbformat": 4,
 "nbformat_minor": 2
}
