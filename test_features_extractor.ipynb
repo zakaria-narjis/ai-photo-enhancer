{
 "cells": [
  {
   "cell_type": "code",
   "execution_count": null,
   "metadata": {},
   "outputs": [],
   "source": [
    "import torch\n",
    "model = torch.hub.load('pytorch/vision:v0.10.0', 'resnet18', pretrained=True)\n",
    "import cv2\n",
    "from torchvision import transforms\n",
    "model.eval()"
   ]
  },
  {
   "cell_type": "code",
   "execution_count": null,
   "metadata": {},
   "outputs": [],
   "source": [
    "newmodel = torch.nn.Sequential(*(list(model.children())[:-1]))"
   ]
  },
  {
   "cell_type": "code",
   "execution_count": null,
   "metadata": {},
   "outputs": [],
   "source": [
    "def get_n_params(model):\n",
    "    pp=0\n",
    "    for p in list(model.parameters()):\n",
    "        nn=1\n",
    "        for s in list(p.size()):\n",
    "            nn = nn*s\n",
    "        pp += nn\n",
    "    return pp"
   ]
  },
  {
   "cell_type": "code",
   "execution_count": null,
   "metadata": {},
   "outputs": [],
   "source": [
    "image = cv2.imread(\"sample_images/a0676-kme_609.jpg\")\n",
    "image = cv2.cvtColor(image, cv2.COLOR_BGR2RGB) \n",
    "input = cv2.resize(image, (64, 64)) / 255.0\n",
    "preprocess = transforms.Compose([\n",
    "    transforms.ToTensor(),\n",
    "    transforms.Normalize(mean=[0.485, 0.456, 0.406], std=[0.229, 0.224, 0.225]),\n",
    "])\n",
    "input_tensor = preprocess(input).unsqueeze(0).type(torch.float32)\n",
    "pred =newmodel(input_tensor)"
   ]
  },
  {
   "cell_type": "code",
   "execution_count": null,
   "metadata": {},
   "outputs": [],
   "source": [
    "pred.shape"
   ]
  },
  {
   "cell_type": "code",
   "execution_count": null,
   "metadata": {},
   "outputs": [],
   "source": [
    "image = cv2.imread(\"sample_images/a0676-kme_609_c.jpg\")\n",
    "image = cv2.cvtColor(image, cv2.COLOR_BGR2RGB) \n",
    "input = cv2.resize(image, (64, 64)) / 255.0\n",
    "preprocess = transforms.Compose([\n",
    "    transforms.ToTensor(),\n",
    "    transforms.Normalize(mean=[0.485, 0.456, 0.406], std=[0.229, 0.224, 0.225]),\n",
    "])\n",
    "input_tensor = preprocess(input).unsqueeze(0).type(torch.float32)\n",
    "target =newmodel(input_tensor)"
   ]
  },
  {
   "cell_type": "code",
   "execution_count": null,
   "metadata": {},
   "outputs": [],
   "source": [
    "from envs.env_dataloader import image_encoder"
   ]
  },
  {
   "cell_type": "code",
   "execution_count": 1,
   "metadata": {},
   "outputs": [
    {
     "name": "stdout",
     "output_type": "stream",
     "text": [
      "Encoding testing data ...\n"
     ]
    },
    {
     "data": {
      "application/vnd.jupyter.widget-view+json": {
       "model_id": "eb864938eb134d91b96550df354b0f2c",
       "version_major": 2,
       "version_minor": 0
      },
      "text/plain": [
       "  0%|          | 0/4 [00:00<?, ?it/s]"
      ]
     },
     "metadata": {},
     "output_type": "display_data"
    },
    {
     "name": "stdout",
     "output_type": "stream",
     "text": [
      "finished...\n",
      "Encoding training data ...\n"
     ]
    },
    {
     "data": {
      "application/vnd.jupyter.widget-view+json": {
       "model_id": "0bfcbcfec3ae4a5c850c620c6130daae",
       "version_major": 2,
       "version_minor": 0
      },
      "text/plain": [
       "  0%|          | 0/36 [00:00<?, ?it/s]"
      ]
     },
     "metadata": {},
     "output_type": "display_data"
    },
    {
     "name": "stdout",
     "output_type": "stream",
     "text": [
      "finished...\n"
     ]
    }
   ],
   "source": [
    "from envs.photo_env import PhotoEnhancementEnv\n",
    "import torch\n",
    "env = PhotoEnhancementEnv(64)"
   ]
  },
  {
   "cell_type": "code",
   "execution_count": 3,
   "metadata": {},
   "outputs": [
    {
     "data": {
      "text/plain": [
       "({'enhanced_encoded_image': tensor([[3.2310, 4.2118, 4.5486,  ..., 0.0000, 1.6651, 0.0000],\n",
       "          [4.0241, 0.0000, 1.6446,  ..., 0.9130, 0.0228, 0.0000],\n",
       "          [1.1111, 0.0000, 0.0088,  ..., 0.0000, 0.9583, 1.9530],\n",
       "          ...,\n",
       "          [0.0000, 2.1472, 1.4969,  ..., 2.4731, 3.3409, 0.6564],\n",
       "          [0.0000, 0.0000, 0.5761,  ..., 0.0220, 0.0000, 0.1313],\n",
       "          [0.0000, 3.0364, 4.2623,  ..., 2.6856, 2.1538, 0.5002]]),\n",
       "  'encoded_source': tensor([[0.7249, 0.0000, 0.2135,  ..., 0.0000, 0.0000, 0.0000],\n",
       "          [0.7249, 0.0000, 0.2135,  ..., 0.0000, 0.0000, 0.0000],\n",
       "          [0.7249, 0.0000, 0.2135,  ..., 0.0000, 0.0000, 0.0000],\n",
       "          ...,\n",
       "          [0.7249, 0.0000, 0.2135,  ..., 0.0000, 0.0000, 0.0000],\n",
       "          [0.7249, 0.0000, 0.2135,  ..., 0.0000, 0.0000, 0.0000],\n",
       "          [0.7249, 0.0000, 0.2135,  ..., 0.0000, 0.0000, 0.0000]]),\n",
       "  'source_image': tensor([[[[  3,   3,   5,  ...,  32,  32,  32],\n",
       "            [  6,   4,   3,  ...,  32,  32,  32],\n",
       "            [  3,   5,   5,  ...,  32,  32,  32],\n",
       "            ...,\n",
       "            [ 46,  46,  44,  ...,  24,  24,  26],\n",
       "            [ 48,  47,  46,  ...,  22,  21,  21],\n",
       "            [ 47,  47,  46,  ...,  24,  24,  25]],\n",
       "  \n",
       "           [[  1,   2,   3,  ...,  28,  28,  28],\n",
       "            [  4,   3,   1,  ...,  28,  28,  28],\n",
       "            [  2,   3,   3,  ...,  28,  28,  28],\n",
       "            ...,\n",
       "            [ 41,  41,  39,  ...,  20,  20,  22],\n",
       "            [ 40,  39,  38,  ...,  19,  18,  17],\n",
       "            [ 39,  39,  39,  ...,  21,  21,  21]],\n",
       "  \n",
       "           [[  2,   2,   2,  ...,  25,  25,  25],\n",
       "            [  4,   2,   2,  ...,  25,  25,  25],\n",
       "            [  2,   3,   4,  ...,  25,  25,  25],\n",
       "            ...,\n",
       "            [ 37,  37,  36,  ...,  15,  14,  16],\n",
       "            [ 35,  36,  35,  ...,  15,  13,  13],\n",
       "            [ 36,  36,  36,  ...,  16,  16,  17]]],\n",
       "  \n",
       "  \n",
       "          [[[132, 132, 131,  ...,  77,  77,  76],\n",
       "            [133, 132, 131,  ...,  78,  78,  77],\n",
       "            [135, 134, 134,  ...,  79,  78,  79],\n",
       "            ...,\n",
       "            [166, 174, 178,  ...,  24,  23,  26],\n",
       "            [151, 152, 154,  ...,  23,  24,  27],\n",
       "            [108, 100, 101,  ...,  26,  26,  28]],\n",
       "  \n",
       "           [[165, 165, 164,  ..., 106, 105, 104],\n",
       "            [168, 168, 167,  ..., 107, 106, 105],\n",
       "            [171, 170, 169,  ..., 108, 107, 106],\n",
       "            ...,\n",
       "            [158, 168, 172,  ...,  35,  35,  36],\n",
       "            [147, 148, 151,  ...,  33,  35,  36],\n",
       "            [117, 110, 110,  ...,  34,  33,  34]],\n",
       "  \n",
       "           [[218, 217, 217,  ..., 149, 147, 147],\n",
       "            [221, 220, 219,  ..., 151, 150, 150],\n",
       "            [224, 223, 222,  ..., 152, 151, 151],\n",
       "            ...,\n",
       "            [146, 158, 164,  ...,  26,  25,  27],\n",
       "            [119, 119, 117,  ...,  25,  26,  28],\n",
       "            [ 63,  47,  50,  ...,  27,  26,  27]]],\n",
       "  \n",
       "  \n",
       "          [[[ 33,  24,  36,  ...,  69,  63,  75],\n",
       "            [ 37,  44,  44,  ...,  60,  87,  90],\n",
       "            [ 39,  40,  47,  ...,  70,  70,  67],\n",
       "            ...,\n",
       "            [ 47,  46,  44,  ...,  42,  47,  49],\n",
       "            [ 58,  50,  39,  ...,  41,  43,  56],\n",
       "            [160,  59,  44,  ...,  48,  48,  52]],\n",
       "  \n",
       "           [[ 37,  26,  40,  ...,  77,  72,  81],\n",
       "            [ 42,  50,  49,  ...,  67,  92,  96],\n",
       "            [ 43,  43,  55,  ...,  75,  76,  75],\n",
       "            ...,\n",
       "            [ 47,  48,  48,  ...,  41,  48,  51],\n",
       "            [ 57,  50,  42,  ...,  40,  43,  56],\n",
       "            [157,  59,  46,  ...,  48,  48,  52]],\n",
       "  \n",
       "           [[ 27,  20,  30,  ...,  58,  45,  54],\n",
       "            [ 29,  34,  32,  ...,  49,  70,  73],\n",
       "            [ 27,  31,  36,  ...,  62,  58,  53],\n",
       "            ...,\n",
       "            [ 45,  50,  51,  ...,  38,  41,  45],\n",
       "            [ 58,  52,  45,  ...,  41,  41,  54],\n",
       "            [163,  69,  51,  ...,  52,  50,  49]]],\n",
       "  \n",
       "  \n",
       "          ...,\n",
       "  \n",
       "  \n",
       "          [[[106,  93,  89,  ...,  68,  50,  51],\n",
       "            [103,  66,  87,  ...,  62,  53,  52],\n",
       "            [ 83,  65,  74,  ...,  70,  54,  53],\n",
       "            ...,\n",
       "            [145, 143, 140,  ..., 154, 151, 153],\n",
       "            [152, 155, 149,  ..., 156, 156, 154],\n",
       "            [148, 150, 145,  ..., 153, 150, 145]],\n",
       "  \n",
       "           [[119, 106, 100,  ...,  66,  48,  48],\n",
       "            [116,  76,  99,  ...,  61,  51,  48],\n",
       "            [ 95,  75,  85,  ...,  67,  52,  48],\n",
       "            ...,\n",
       "            [145, 142, 138,  ..., 150, 147, 149],\n",
       "            [151, 154, 144,  ..., 152, 152, 151],\n",
       "            [147, 149, 141,  ..., 149, 147, 142]],\n",
       "  \n",
       "           [[108,  95,  87,  ...,  61,  52,  51],\n",
       "            [107,  66,  93,  ...,  57,  55,  51],\n",
       "            [ 80,  69,  83,  ...,  59,  56,  52],\n",
       "            ...,\n",
       "            [143, 141, 138,  ..., 149, 145, 147],\n",
       "            [149, 151, 143,  ..., 151, 151, 150],\n",
       "            [144, 147, 139,  ..., 147, 145, 140]]],\n",
       "  \n",
       "  \n",
       "          [[[101, 158, 142,  ...,  87,  77,  75],\n",
       "            [129, 155, 152,  ..., 132, 124, 104],\n",
       "            [132, 144, 142,  ..., 127, 144, 137],\n",
       "            ...,\n",
       "            [ 58,  61,  99,  ..., 164, 159, 156],\n",
       "            [ 62,  47,  75,  ..., 162, 157, 154],\n",
       "            [ 62,  49,  64,  ..., 161, 155, 154]],\n",
       "  \n",
       "           [[ 72,  90,  86,  ...,  84,  72,  66],\n",
       "            [102, 102,  89,  ..., 131, 121,  97],\n",
       "            [104, 103,  85,  ..., 129, 142, 137],\n",
       "            ...,\n",
       "            [ 69,  70, 109,  ..., 129, 125, 123],\n",
       "            [ 71,  56,  80,  ..., 127, 123, 120],\n",
       "            [ 73,  60,  70,  ..., 127, 121, 120]],\n",
       "  \n",
       "           [[ 44,  64,  69,  ...,  76,  74,  69],\n",
       "            [ 57,  63,  69,  ...,  77,  81,  78],\n",
       "            [ 47,  57,  64,  ...,  73,  83,  83],\n",
       "            ...,\n",
       "            [ 16,  18,  31,  ...,  97,  95,  94],\n",
       "            [ 19,   4,  22,  ...,  97,  94,  92],\n",
       "            [ 15,   4,  12,  ...,  96,  93,  91]]],\n",
       "  \n",
       "  \n",
       "          [[[ 77,  78,  72,  ..., 128, 132, 136],\n",
       "            [133, 134,  99,  ..., 138, 137, 137],\n",
       "            [139, 140,  99,  ..., 137, 136, 138],\n",
       "            ...,\n",
       "            [110, 112, 114,  ..., 191, 190, 189],\n",
       "            [102,  99,  99,  ..., 191, 187, 184],\n",
       "            [108, 107, 106,  ..., 179, 173, 173]],\n",
       "  \n",
       "           [[ 77,  78,  71,  ..., 128, 132, 135],\n",
       "            [133, 132,  97,  ..., 138, 137, 137],\n",
       "            [140, 141,  99,  ..., 137, 137, 138],\n",
       "            ...,\n",
       "            [114, 114, 115,  ..., 178, 177, 176],\n",
       "            [103, 102, 101,  ..., 176, 174, 170],\n",
       "            [108, 108, 109,  ..., 163, 157, 156]],\n",
       "  \n",
       "           [[ 65,  65,  54,  ..., 132, 135, 139],\n",
       "            [128, 129,  86,  ..., 139, 139, 139],\n",
       "            [141, 143,  94,  ..., 138, 139, 140],\n",
       "            ...,\n",
       "            [120, 119, 120,  ..., 161, 161, 160],\n",
       "            [112, 109, 108,  ..., 160, 157, 154],\n",
       "            [118, 118, 118,  ..., 143, 137, 137]]]], dtype=torch.uint8),\n",
       "  'encoded_enhanced_image': tensor([[0.7249, 0.0000, 0.2135,  ..., 0.0000, 0.0000, 0.0000],\n",
       "          [0.7249, 0.0000, 0.2135,  ..., 0.0000, 0.0000, 0.0000],\n",
       "          [0.7249, 0.0000, 0.2135,  ..., 0.0000, 0.0000, 0.0000],\n",
       "          ...,\n",
       "          [0.7249, 0.0000, 0.2135,  ..., 0.0000, 0.0000, 0.0000],\n",
       "          [0.7249, 0.0000, 0.2135,  ..., 0.0000, 0.0000, 0.0000],\n",
       "          [0.7249, 0.0000, 0.2135,  ..., 0.0000, 0.0000, 0.0000]])},\n",
       " tensor([-104.1859, -143.7501, -106.8789, -133.0753, -150.2407,  -95.8994,\n",
       "         -131.6838, -143.6782, -127.3242, -113.4508, -122.2741, -113.4794,\n",
       "         -132.4845, -145.2161, -125.2480, -144.3115, -141.9637, -111.8673,\n",
       "         -199.4541, -130.3832, -112.8122, -146.9950,  -93.3434, -131.7513,\n",
       "         -106.2323,  -98.5407,  -97.0767, -129.9333, -131.0726, -144.2691,\n",
       "          -97.1231, -175.6293, -127.3863, -115.9758, -129.1754, -112.3233,\n",
       "         -178.1740, -135.0403, -124.7365, -129.4416, -124.8151, -134.7591,\n",
       "         -113.6918, -107.5507, -126.2191, -103.3105, -101.0085,  -95.5543,\n",
       "          -59.5508, -109.7677, -118.3601, -123.1266, -127.5566, -136.5738,\n",
       "         -129.1115, -127.7705,  -90.1377, -137.2233, -118.0313, -113.8890,\n",
       "         -105.9026, -148.4737, -105.6964, -140.9929]),\n",
       " tensor([False, False, False, False, False, False, False, False, False, False,\n",
       "         False, False, False, False, False, False, False, False, False, False,\n",
       "         False, False, False, False, False, False, False, False, False, False,\n",
       "         False, False, False, False, False, False, False, False, False, False,\n",
       "         False, False, False, False, False, False, False, False, False, False,\n",
       "         False, False, False, False, False, False, False, False, False, False,\n",
       "         False, False, False, False]))"
      ]
     },
     "execution_count": 3,
     "metadata": {},
     "output_type": "execute_result"
    }
   ],
   "source": [
    "obs = env.reset()\n",
    "parameters = torch.tensor([0.125, 0.125, 0.375, 0.125, 0., 0.0625, 0.9375, 0.375, 0.0625, 0., 0.125, 0.125])\n",
    "parameters = torch.stack([parameters for i in range(64)])\n",
    "action = parameters\n",
    "env.step(action)"
   ]
  },
  {
   "cell_type": "code",
   "execution_count": null,
   "metadata": {},
   "outputs": [],
   "source": [
    "f= torch.rand(32,3,64,64)\n",
    "index = torch.tensor([1,3,4])\n",
    "a= torch.index_select(f,0,index)"
   ]
  },
  {
   "cell_type": "code",
   "execution_count": null,
   "metadata": {},
   "outputs": [],
   "source": [
    "torch.Tensor([int(index) for index in range(3)]).to(torch.int32)"
   ]
  },
  {
   "cell_type": "code",
   "execution_count": null,
   "metadata": {},
   "outputs": [],
   "source": [
    "from envs.new_edit_photo import PhotoEditor\n",
    "\n",
    "editor = PhotoEditor()\n",
    "parameters = torch.tensor([0.125, 0.125, 0.375, 0.125, 0., 0.0625, 0.9375, 0.375, 0.0625, 0., 0.125, 0.125])\n",
    "parameters = torch.stack([parameters for i in range(64)])"
   ]
  },
  {
   "cell_type": "code",
   "execution_count": null,
   "metadata": {},
   "outputs": [],
   "source": [
    "for i,j,k,l in train:\n",
    "    # print(i.dtype)\n",
    "    enhanced = i.permute(0,2,3,1)/255.0\n",
    "    # print(enhanced.dtype)\n",
    "    enhanced = editor(enhanced,parameters)\n",
    "    enhanced = enhanced.permute(0,3,1,2)\n",
    "    enhanced =torch.flatten(enhanced,start_dim=1, end_dim=-1)\n",
    "\n",
    "    target = torch.flatten(j,start_dim=1, end_dim=-1)/255.0\n",
    "    # print(enhanced.dtype)\n",
    "    rmse = enhanced-target\n",
    "    rmse = torch.pow(rmse,2).mean(1)\n",
    "    rmse = torch.sqrt(rmse)\n",
    "    break\n",
    "\n",
    "print(rmse.shape)"
   ]
  }
 ],
 "metadata": {
  "kernelspec": {
   "display_name": "photoen",
   "language": "python",
   "name": "python3"
  },
  "language_info": {
   "codemirror_mode": {
    "name": "ipython",
    "version": 3
   },
   "file_extension": ".py",
   "mimetype": "text/x-python",
   "name": "python",
   "nbconvert_exporter": "python",
   "pygments_lexer": "ipython3",
   "version": "3.11.9"
  }
 },
 "nbformat": 4,
 "nbformat_minor": 2
}
