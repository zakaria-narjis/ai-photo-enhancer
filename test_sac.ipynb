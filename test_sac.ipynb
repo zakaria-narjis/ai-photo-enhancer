{
 "cells": [
  {
   "cell_type": "code",
   "execution_count": 1,
   "metadata": {},
   "outputs": [
    {
     "name": "stdout",
     "output_type": "stream",
     "text": [
      "Encoding testing data ...\n"
     ]
    },
    {
     "data": {
      "application/vnd.jupyter.widget-view+json": {
       "model_id": "ea2fda2f630f43cc9a5a76d2035e1d8c",
       "version_major": 2,
       "version_minor": 0
      },
      "text/plain": [
       "  0%|          | 0/4 [00:00<?, ?it/s]"
      ]
     },
     "metadata": {},
     "output_type": "display_data"
    },
    {
     "name": "stdout",
     "output_type": "stream",
     "text": [
      "finished...\n",
      "Encoding training data ...\n"
     ]
    },
    {
     "data": {
      "application/vnd.jupyter.widget-view+json": {
       "model_id": "95617dc841234ae69beaf0f2b156553b",
       "version_major": 2,
       "version_minor": 0
      },
      "text/plain": [
       "  0%|          | 0/36 [00:00<?, ?it/s]"
      ]
     },
     "metadata": {},
     "output_type": "display_data"
    },
    {
     "name": "stdout",
     "output_type": "stream",
     "text": [
      "finished...\n"
     ]
    }
   ],
   "source": [
    "import yaml\n",
    "import time\n",
    "import random\n",
    "import numpy as np\n",
    "import torch\n",
    "from torch.utils.tensorboard import SummaryWriter\n",
    "import time\n",
    "from envs.photo_env import PhotoEnhancementEnv\n",
    "from sac.sac_algorithm import SAC\n",
    "import multiprocessing as mp\n",
    "try:\n",
    "    mp.set_start_method('spawn', force=True)\n",
    "except RuntimeError:\n",
    "    pass  \n"
   ]
  },
  {
   "cell_type": "code",
   "execution_count": 2,
   "metadata": {},
   "outputs": [],
   "source": [
    "env = PhotoEnhancementEnv()"
   ]
  },
  {
   "cell_type": "code",
   "execution_count": 3,
   "metadata": {},
   "outputs": [],
   "source": [
    "with open(\"configs/hyperparameters.yaml\") as f:\n",
    "    config_dict =yaml.load(f, Loader=yaml.FullLoader)\n",
    "    \n",
    "class Config(object):\n",
    "    def __init__(self, dictionary):\n",
    "        self.__dict__.update(dictionary)\n",
    "sac_config = Config(config_dict)\n",
    "\n",
    "SEED = sac_config.seed\n",
    "DEVICE= 'CUDA'\n",
    "\n",
    "random.seed(SEED)\n",
    "np.random.seed(SEED)\n",
    "torch.manual_seed(SEED)\n",
    "torch.backends.cudnn.deterministic = sac_config.torch_deterministic"
   ]
  },
  {
   "cell_type": "code",
   "execution_count": 4,
   "metadata": {},
   "outputs": [
    {
     "name": "stdout",
     "output_type": "stream",
     "text": [
      "(64, 12) -12\n"
     ]
    }
   ],
   "source": [
    "run_name = f\"{sac_config.exp_name}__{sac_config.seed}__{int(time.time())}\"\n",
    "writer = SummaryWriter(f\"runs/{run_name}\")\n",
    "writer.add_text(\n",
    "    \"hyperparameters\",\n",
    "    \"|param|value|\\n|-|-|\\n%s\" % (\"\\n\".join([f\"|{key}|{value}|\" for key, value in vars(sac_config).items()])),\n",
    ")\n",
    "agent = SAC(env,sac_config,writer)"
   ]
  },
  {
   "cell_type": "code",
   "execution_count": 5,
   "metadata": {},
   "outputs": [
    {
     "name": "stdout",
     "output_type": "stream",
     "text": [
      "SPS: 1\n",
      "SPS: 2\n",
      "SPS: 2\n",
      "SPS: 2\n",
      "SPS: 2\n",
      "SPS: 2\n",
      "SPS: 2\n",
      "SPS: 2\n",
      "SPS: 2\n",
      "SPS: 2\n",
      "SPS: 2\n",
      "SPS: 2\n",
      "SPS: 2\n",
      "SPS: 2\n",
      "SPS: 2\n",
      "SPS: 2\n",
      "SPS: 2\n",
      "SPS: 2\n",
      "SPS: 2\n",
      "SPS: 2\n",
      "SPS: 2\n",
      "SPS: 2\n",
      "SPS: 2\n",
      "SPS: 2\n",
      "SPS: 2\n",
      "SPS: 2\n",
      "SPS: 2\n",
      "SPS: 2\n",
      "SPS: 2\n",
      "SPS: 2\n",
      "SPS: 2\n",
      "SPS: 2\n",
      "SPS: 2\n",
      "SPS: 2\n",
      "SPS: 2\n",
      "SPS: 2\n",
      "SPS: 2\n",
      "SPS: 2\n",
      "SPS: 2\n",
      "SPS: 2\n",
      "SPS: 2\n",
      "SPS: 2\n",
      "SPS: 2\n",
      "SPS: 2\n",
      "SPS: 2\n",
      "SPS: 2\n",
      "SPS: 2\n",
      "SPS: 2\n",
      "SPS: 2\n",
      "SPS: 2\n",
      "SPS: 2\n",
      "SPS: 2\n",
      "SPS: 2\n",
      "SPS: 2\n",
      "SPS: 2\n",
      "SPS: 2\n",
      "SPS: 2\n",
      "SPS: 2\n",
      "SPS: 2\n",
      "SPS: 2\n",
      "SPS: 2\n",
      "SPS: 2\n",
      "SPS: 2\n",
      "SPS: 2\n",
      "SPS: 2\n",
      "SPS: 2\n",
      "one done\n",
      "torch.Size([63, 1024]) torch.Size([63])\n",
      "tensor([ 0,  1,  2,  3,  4,  5,  6,  7,  8,  9, 10, 11, 12, 13, 14, 15, 16, 17,\n",
      "        19, 20, 21, 22, 23, 24, 25, 26, 27, 28, 29, 30, 31, 32, 33, 34, 35, 36,\n",
      "        37, 38, 39, 40, 41, 42, 43, 44, 45, 46, 47, 48, 49, 50, 51, 52, 53, 54,\n",
      "        55, 56, 57, 58, 59, 60, 61, 62, 63], dtype=torch.int32)\n",
      "SPS: 2\n",
      "SPS: 2\n",
      "SPS: 2\n",
      "SPS: 2\n",
      "one done\n",
      "torch.Size([63, 1024]) torch.Size([63])\n",
      "tensor([ 0,  1,  2,  3,  4,  5,  6,  8,  9, 10, 11, 12, 13, 14, 15, 16, 17, 18,\n",
      "        19, 20, 21, 22, 23, 24, 25, 26, 27, 28, 29, 30, 31, 32, 33, 34, 35, 36,\n",
      "        37, 38, 39, 40, 41, 42, 43, 44, 45, 46, 47, 48, 49, 50, 51, 52, 53, 54,\n",
      "        55, 56, 57, 58, 59, 60, 61, 62, 63], dtype=torch.int32)\n",
      "SPS: 2\n",
      "SPS: 2\n",
      "SPS: 2\n",
      "SPS: 2\n",
      "SPS: 2\n",
      "SPS: 2\n",
      "SPS: 2\n",
      "SPS: 2\n",
      "SPS: 2\n",
      "SPS: 2\n",
      "SPS: 2\n",
      "SPS: 2\n",
      "SPS: 2\n",
      "SPS: 2\n",
      "SPS: 2\n",
      "SPS: 2\n",
      "SPS: 2\n",
      "SPS: 2\n",
      "SPS: 2\n",
      "SPS: 2\n",
      "SPS: 2\n",
      "SPS: 2\n",
      "SPS: 2\n",
      "SPS: 2\n",
      "SPS: 2\n",
      "SPS: 2\n",
      "SPS: 2\n",
      "SPS: 2\n",
      "SPS: 2\n",
      "SPS: 2\n",
      "SPS: 2\n",
      "SPS: 2\n",
      "SPS: 2\n",
      "SPS: 2\n",
      "SPS: 2\n",
      "SPS: 2\n",
      "SPS: 2\n",
      "SPS: 2\n",
      "SPS: 2\n",
      "SPS: 2\n",
      "SPS: 2\n",
      "SPS: 2\n",
      "SPS: 2\n",
      "SPS: 2\n",
      "SPS: 2\n",
      "SPS: 2\n",
      "SPS: 2\n",
      "SPS: 2\n",
      "SPS: 2\n",
      "SPS: 2\n",
      "SPS: 2\n",
      "SPS: 2\n",
      "SPS: 2\n",
      "SPS: 2\n",
      "SPS: 2\n",
      "SPS: 2\n",
      "SPS: 2\n",
      "SPS: 2\n",
      "SPS: 2\n",
      "SPS: 2\n",
      "SPS: 2\n",
      "one done\n",
      "torch.Size([63, 1024]) torch.Size([63])\n",
      "tensor([ 0,  1,  2,  3,  4,  5,  6,  7,  8,  9, 10, 11, 12, 13, 14, 15, 16, 17,\n",
      "        18, 19, 20, 21, 22, 23, 24, 25, 26, 27, 28, 29, 30, 31, 32, 33, 34, 35,\n",
      "        36, 37, 38, 39, 40, 41, 42, 43, 44, 45, 46, 48, 49, 50, 51, 52, 53, 54,\n",
      "        55, 56, 57, 58, 59, 60, 61, 62, 63], dtype=torch.int32)\n",
      "SPS: 2\n",
      "one done\n",
      "torch.Size([63, 1024]) torch.Size([63])\n",
      "tensor([ 0,  1,  2,  3,  4,  5,  6,  7,  8,  9, 10, 11, 12, 13, 14, 15, 16, 17,\n",
      "        18, 19, 20, 21, 22, 23, 24, 25, 26, 27, 28, 29, 30, 31, 32, 33, 34, 35,\n",
      "        36, 37, 38, 39, 40, 41, 42, 43, 44, 45, 46, 47, 49, 50, 51, 52, 53, 54,\n",
      "        55, 56, 57, 58, 59, 60, 61, 62, 63], dtype=torch.int32)\n",
      "SPS: 2\n",
      "SPS: 2\n",
      "SPS: 2\n",
      "SPS: 2\n",
      "SPS: 2\n",
      "SPS: 2\n",
      "SPS: 2\n",
      "SPS: 2\n",
      "SPS: 2\n",
      "SPS: 2\n",
      "SPS: 2\n",
      "SPS: 2\n",
      "SPS: 2\n",
      "SPS: 2\n",
      "SPS: 2\n",
      "SPS: 2\n",
      "SPS: 2\n",
      "one done\n",
      "torch.Size([63, 1024]) torch.Size([63])\n",
      "tensor([ 0,  1,  2,  3,  4,  5,  6,  7,  9, 10, 11, 12, 13, 14, 15, 16, 17, 18,\n",
      "        19, 20, 21, 22, 23, 24, 25, 26, 27, 28, 29, 30, 31, 32, 33, 34, 35, 36,\n",
      "        37, 38, 39, 40, 41, 42, 43, 44, 45, 46, 47, 48, 49, 50, 51, 52, 53, 54,\n",
      "        55, 56, 57, 58, 59, 60, 61, 62, 63], dtype=torch.int32)\n",
      "SPS: 2\n",
      "SPS: 2\n",
      "SPS: 2\n",
      "SPS: 2\n",
      "SPS: 2\n",
      "SPS: 2\n",
      "SPS: 2\n",
      "SPS: 2\n",
      "SPS: 2\n",
      "SPS: 2\n",
      "SPS: 2\n",
      "SPS: 2\n",
      "SPS: 2\n",
      "SPS: 2\n",
      "SPS: 2\n",
      "SPS: 2\n",
      "SPS: 2\n",
      "SPS: 2\n",
      "SPS: 2\n",
      "SPS: 2\n",
      "SPS: 2\n",
      "SPS: 2\n",
      "one done\n",
      "torch.Size([63, 1024]) torch.Size([63])\n",
      "tensor([ 0,  1,  2,  3,  4,  5,  6,  7,  8,  9, 10, 11, 12, 13, 14, 15, 16, 17,\n",
      "        18, 19, 20, 21, 22, 23, 24, 25, 26, 27, 28, 29, 30, 31, 32, 33, 34, 35,\n",
      "        36, 37, 38, 39, 40, 41, 42, 43, 44, 45, 47, 48, 49, 50, 51, 52, 53, 54,\n",
      "        55, 56, 57, 58, 59, 60, 61, 62, 63], dtype=torch.int32)\n",
      "SPS: 2\n",
      "one done\n",
      "torch.Size([63, 1024]) torch.Size([63])\n",
      "tensor([ 0,  1,  2,  3,  4,  5,  6,  7,  8,  9, 10, 11, 12, 13, 14, 15, 16, 17,\n",
      "        18, 19, 20, 21, 22, 23, 24, 25, 26, 27, 28, 29, 30, 32, 33, 34, 35, 36,\n",
      "        37, 38, 39, 40, 41, 42, 43, 44, 45, 46, 47, 48, 49, 50, 51, 52, 53, 54,\n",
      "        55, 56, 57, 58, 59, 60, 61, 62, 63], dtype=torch.int32)\n",
      "SPS: 2\n",
      "SPS: 2\n",
      "one done\n",
      "torch.Size([63, 1024]) torch.Size([63])\n",
      "tensor([ 0,  1,  2,  3,  4,  5,  6,  7,  8,  9, 10, 11, 12, 13, 14, 15, 16, 17,\n",
      "        19, 20, 21, 22, 23, 24, 25, 26, 27, 28, 29, 30, 31, 32, 33, 34, 35, 36,\n",
      "        37, 38, 39, 40, 41, 42, 43, 44, 45, 46, 47, 48, 49, 50, 51, 52, 53, 54,\n",
      "        55, 56, 57, 58, 59, 60, 61, 62, 63], dtype=torch.int32)\n",
      "SPS: 2\n",
      "SPS: 2\n",
      "SPS: 2\n",
      "one done\n",
      "torch.Size([63, 1024]) torch.Size([63])\n",
      "tensor([ 0,  1,  2,  3,  4,  5,  6,  7,  8,  9, 10, 11, 12, 13, 14, 15, 16, 17,\n",
      "        18, 19, 20, 21, 22, 23, 24, 25, 26, 27, 28, 29, 30, 31, 32, 33, 34, 35,\n",
      "        36, 37, 38, 39, 40, 41, 42, 43, 44, 45, 46, 47, 48, 49, 50, 51, 52, 53,\n",
      "        54, 55, 56, 57, 58, 59, 60, 61, 63], dtype=torch.int32)\n",
      "SPS: 2\n",
      "SPS: 2\n",
      "SPS: 2\n",
      "SPS: 2\n",
      "one done\n",
      "torch.Size([63, 1024]) torch.Size([63])\n",
      "tensor([ 0,  1,  2,  4,  5,  6,  7,  8,  9, 10, 11, 12, 13, 14, 15, 16, 17, 18,\n",
      "        19, 20, 21, 22, 23, 24, 25, 26, 27, 28, 29, 30, 31, 32, 33, 34, 35, 36,\n",
      "        37, 38, 39, 40, 41, 42, 43, 44, 45, 46, 47, 48, 49, 50, 51, 52, 53, 54,\n",
      "        55, 56, 57, 58, 59, 60, 61, 62, 63], dtype=torch.int32)\n",
      "SPS: 2\n",
      "SPS: 2\n",
      "SPS: 2\n",
      "SPS: 2\n",
      "SPS: 2\n",
      "one done\n",
      "torch.Size([63, 1024]) torch.Size([63])\n",
      "tensor([ 0,  1,  2,  3,  4,  5,  6,  7,  8,  9, 10, 11, 12, 13, 14, 15, 16, 17,\n",
      "        18, 19, 20, 21, 22, 23, 24, 25, 26, 27, 28, 29, 31, 32, 33, 34, 35, 36,\n",
      "        37, 38, 39, 40, 41, 42, 43, 44, 45, 46, 47, 48, 49, 50, 51, 52, 53, 54,\n",
      "        55, 56, 57, 58, 59, 60, 61, 62, 63], dtype=torch.int32)\n",
      "SPS: 2\n",
      "SPS: 2\n",
      "one done\n",
      "torch.Size([63, 1024]) torch.Size([63])\n",
      "tensor([ 0,  1,  2,  3,  4,  5,  6,  7,  8,  9, 10, 11, 12, 13, 14, 15, 16, 17,\n",
      "        18, 19, 20, 21, 22, 23, 24, 25, 26, 27, 28, 29, 30, 31, 32, 33, 34, 35,\n",
      "        36, 37, 38, 39, 40, 41, 42, 43, 44, 45, 46, 47, 49, 50, 51, 52, 53, 54,\n",
      "        55, 56, 57, 58, 59, 60, 61, 62, 63], dtype=torch.int32)\n",
      "SPS: 2\n",
      "SPS: 2\n",
      "SPS: 2\n",
      "SPS: 2\n",
      "SPS: 2\n",
      "SPS: 2\n",
      "SPS: 2\n",
      "one done\n",
      "torch.Size([63, 1024]) torch.Size([63])\n",
      "tensor([ 0,  1,  2,  3,  4,  5,  6,  7,  8,  9, 11, 12, 13, 14, 15, 16, 17, 18,\n",
      "        19, 20, 21, 22, 23, 24, 25, 26, 27, 28, 29, 30, 31, 32, 33, 34, 35, 36,\n",
      "        37, 38, 39, 40, 41, 42, 43, 44, 45, 46, 47, 48, 49, 50, 51, 52, 53, 54,\n",
      "        55, 56, 57, 58, 59, 60, 61, 62, 63], dtype=torch.int32)\n",
      "SPS: 2\n",
      "SPS: 2\n",
      "SPS: 2\n"
     ]
    },
    {
     "ename": "KeyboardInterrupt",
     "evalue": "",
     "output_type": "error",
     "traceback": [
      "\u001b[0;31m---------------------------------------------------------------------------\u001b[0m",
      "\u001b[0;31mKeyboardInterrupt\u001b[0m                         Traceback (most recent call last)",
      "Cell \u001b[0;32mIn[5], line 10\u001b[0m\n\u001b[1;32m      8\u001b[0m episode_count\u001b[38;5;241m+\u001b[39m\u001b[38;5;241m=\u001b[39m\u001b[38;5;241m1\u001b[39m\n\u001b[1;32m      9\u001b[0m agent\u001b[38;5;241m.\u001b[39mglobal_step\u001b[38;5;241m+\u001b[39m\u001b[38;5;241m=\u001b[39m\u001b[38;5;241m1\u001b[39m\n\u001b[0;32m---> 10\u001b[0m mean_reward,batch_dones \u001b[38;5;241m=\u001b[39m \u001b[43magent\u001b[49m\u001b[38;5;241;43m.\u001b[39;49m\u001b[43mtrain\u001b[49m\u001b[43m(\u001b[49m\u001b[43m)\u001b[49m\n\u001b[1;32m     11\u001b[0m envs_mean_rewards\u001b[38;5;241m.\u001b[39mappend(mean_reward)\n\u001b[1;32m     12\u001b[0m \u001b[38;5;28;01mif\u001b[39;00m(batch_dones\u001b[38;5;241m==\u001b[39m\u001b[38;5;28;01mTrue\u001b[39;00m)\u001b[38;5;241m.\u001b[39many():\n",
      "File \u001b[0;32m~/workspace/ai-photo-enhancer/sac/sac_algorithm.py:86\u001b[0m, in \u001b[0;36mSAC.train\u001b[0;34m(self)\u001b[0m\n\u001b[1;32m     83\u001b[0m     actions, _, _ \u001b[38;5;241m=\u001b[39m \u001b[38;5;28mself\u001b[39m\u001b[38;5;241m.\u001b[39mactor\u001b[38;5;241m.\u001b[39mget_action(batch_obs)\n\u001b[1;32m     84\u001b[0m     actions \u001b[38;5;241m=\u001b[39m actions\u001b[38;5;241m.\u001b[39mdetach()\u001b[38;5;241m.\u001b[39mcpu()\n\u001b[0;32m---> 86\u001b[0m next_batch_obs, rewards, dones \u001b[38;5;241m=\u001b[39m \u001b[38;5;28;43mself\u001b[39;49m\u001b[38;5;241;43m.\u001b[39;49m\u001b[43menv\u001b[49m\u001b[38;5;241;43m.\u001b[39;49m\u001b[43mstep\u001b[49m\u001b[43m(\u001b[49m\u001b[43mactions\u001b[49m\u001b[43m)\u001b[49m\n\u001b[1;32m     88\u001b[0m batch_transition \u001b[38;5;241m=\u001b[39m TensorDict(\n\u001b[1;32m     89\u001b[0m     {\n\u001b[1;32m     90\u001b[0m         \u001b[38;5;124m\"\u001b[39m\u001b[38;5;124mobservations\u001b[39m\u001b[38;5;124m\"\u001b[39m:batch_obs\u001b[38;5;241m.\u001b[39mclone(),\n\u001b[0;32m   (...)\u001b[0m\n\u001b[1;32m     96\u001b[0m     batch_size \u001b[38;5;241m=\u001b[39m [batch_obs\u001b[38;5;241m.\u001b[39mshape[\u001b[38;5;241m0\u001b[39m]],\n\u001b[1;32m     97\u001b[0m )\n\u001b[1;32m     98\u001b[0m \u001b[38;5;28mself\u001b[39m\u001b[38;5;241m.\u001b[39mrb\u001b[38;5;241m.\u001b[39mextend(batch_transition)\n",
      "File \u001b[0;32m~/workspace/ai-photo-enhancer/envs/photo_env.py:226\u001b[0m, in \u001b[0;36mPhotoEnhancementEnv.step\u001b[0;34m(self, batch_actions)\u001b[0m\n\u001b[1;32m    223\u001b[0m encoded_source_images \u001b[38;5;241m=\u001b[39m \u001b[38;5;28mself\u001b[39m\u001b[38;5;241m.\u001b[39mstate[\u001b[38;5;124m'\u001b[39m\u001b[38;5;124mencoded_source\u001b[39m\u001b[38;5;124m'\u001b[39m]\n\u001b[1;32m    224\u001b[0m \u001b[38;5;66;03m# actions =  torch.index_select(batch_actions,0,self.sub_env_running)\u001b[39;00m\n\u001b[0;32m--> 226\u001b[0m enhanced_image \u001b[38;5;241m=\u001b[39m \u001b[38;5;28;43mself\u001b[39;49m\u001b[38;5;241;43m.\u001b[39;49m\u001b[43mphoto_editor\u001b[49m\u001b[43m(\u001b[49m\u001b[43msource_images\u001b[49m\u001b[38;5;241;43m.\u001b[39;49m\u001b[43mpermute\u001b[49m\u001b[43m(\u001b[49m\u001b[38;5;241;43m0\u001b[39;49m\u001b[43m,\u001b[49m\u001b[38;5;241;43m2\u001b[39;49m\u001b[43m,\u001b[49m\u001b[38;5;241;43m3\u001b[39;49m\u001b[43m,\u001b[49m\u001b[38;5;241;43m1\u001b[39;49m\u001b[43m)\u001b[49m\u001b[43m,\u001b[49m\u001b[43mbatch_actions\u001b[49m\u001b[43m)\u001b[49m \u001b[38;5;66;03m#(B,H,W,3)\u001b[39;00m\n\u001b[1;32m    227\u001b[0m enhanced_image \u001b[38;5;241m=\u001b[39m enhanced_image\u001b[38;5;241m.\u001b[39mpermute(\u001b[38;5;241m0\u001b[39m,\u001b[38;5;241m3\u001b[39m,\u001b[38;5;241m1\u001b[39m,\u001b[38;5;241m2\u001b[39m) \n\u001b[1;32m    228\u001b[0m encoded_enhanced_images \u001b[38;5;241m=\u001b[39m image_encoder\u001b[38;5;241m.\u001b[39mencode(enhanced_image)\u001b[38;5;241m.\u001b[39mcpu()\n",
      "File \u001b[0;32m~/workspace/ai-photo-enhancer/envs/new_edit_photo.py:465\u001b[0m, in \u001b[0;36mPhotoEditor.__call__\u001b[0;34m(self, images, parameters)\u001b[0m\n\u001b[1;32m    463\u001b[0m         editted_images \u001b[38;5;241m=\u001b[39m edit_func(editted_images)              \n\u001b[1;32m    464\u001b[0m     \u001b[38;5;28;01melse\u001b[39;00m:\n\u001b[0;32m--> 465\u001b[0m         editted_images \u001b[38;5;241m=\u001b[39m \u001b[43medit_func\u001b[49m\u001b[43m(\u001b[49m\u001b[43meditted_images\u001b[49m\u001b[43m,\u001b[49m\n\u001b[1;32m    466\u001b[0m \u001b[43m            \u001b[49m\u001b[43mparameters\u001b[49m\u001b[43m[\u001b[49m\u001b[43m:\u001b[49m\u001b[43m,\u001b[49m\u001b[43mnum_parameters\u001b[49m\u001b[43m \u001b[49m\u001b[43m:\u001b[49m\u001b[43m \u001b[49m\u001b[43mnum_parameters\u001b[49m\u001b[43m \u001b[49m\u001b[38;5;241;43m+\u001b[39;49m\u001b[43m \u001b[49m\u001b[43medit_func\u001b[49m\u001b[38;5;241;43m.\u001b[39;49m\u001b[43mnum_parameters\u001b[49m\u001b[43m]\u001b[49m\u001b[43m)\u001b[49m\n\u001b[1;32m    467\u001b[0m     num_parameters \u001b[38;5;241m=\u001b[39m num_parameters \u001b[38;5;241m+\u001b[39m edit_func\u001b[38;5;241m.\u001b[39mnum_parameters\n\u001b[1;32m    469\u001b[0m editted_images \u001b[38;5;241m=\u001b[39m editted_images\u001b[38;5;241m.\u001b[39mtype(torch\u001b[38;5;241m.\u001b[39mfloat32)\n",
      "File \u001b[0;32m~/workspace/ai-photo-enhancer/envs/new_edit_photo.py:80\u001b[0m, in \u001b[0;36mAdjustDehaze.__call__\u001b[0;34m(self, images, parameters)\u001b[0m\n\u001b[1;32m     78\u001b[0m scale \u001b[38;5;241m=\u001b[39m \u001b[38;5;28mmax\u001b[39m((image\u001b[38;5;241m.\u001b[39mshape[:\u001b[38;5;241m2\u001b[39m])) \u001b[38;5;241m/\u001b[39m \u001b[38;5;241m512.0\u001b[39m\n\u001b[1;32m     79\u001b[0m omega \u001b[38;5;241m=\u001b[39m \u001b[38;5;28mfloat\u001b[39m(parameters[image_index])\n\u001b[0;32m---> 80\u001b[0m editted\u001b[38;5;241m=\u001b[39m \u001b[43mdehaze\u001b[49m\u001b[38;5;241;43m.\u001b[39;49m\u001b[43mDarkPriorChannelDehaze\u001b[49m\u001b[43m(\u001b[49m\n\u001b[1;32m     81\u001b[0m \u001b[43m    \u001b[49m\u001b[43mwsize\u001b[49m\u001b[38;5;241;43m=\u001b[39;49m\u001b[38;5;28;43mint\u001b[39;49m\u001b[43m(\u001b[49m\u001b[38;5;241;43m15\u001b[39;49m\u001b[38;5;241;43m*\u001b[39;49m\u001b[43mscale\u001b[49m\u001b[43m)\u001b[49m\u001b[43m,\u001b[49m\u001b[43m \u001b[49m\u001b[43mradius\u001b[49m\u001b[38;5;241;43m=\u001b[39;49m\u001b[38;5;28;43mint\u001b[39;49m\u001b[43m(\u001b[49m\u001b[38;5;241;43m80\u001b[39;49m\u001b[38;5;241;43m*\u001b[39;49m\u001b[43mscale\u001b[49m\u001b[43m)\u001b[49m\u001b[43m,\u001b[49m\u001b[43m \u001b[49m\u001b[43momega\u001b[49m\u001b[38;5;241;43m=\u001b[39;49m\u001b[43momega\u001b[49m\u001b[43m,\u001b[49m\n\u001b[1;32m     82\u001b[0m \u001b[43m    \u001b[49m\u001b[43mt_min\u001b[49m\u001b[38;5;241;43m=\u001b[39;49m\u001b[38;5;241;43m0.25\u001b[39;49m\u001b[43m,\u001b[49m\u001b[43m \u001b[49m\u001b[43mrefine\u001b[49m\u001b[38;5;241;43m=\u001b[39;49m\u001b[38;5;28;43;01mTrue\u001b[39;49;00m\u001b[43m)\u001b[49m\u001b[43m(\u001b[49m\u001b[43mimage\u001b[49m\u001b[43m \u001b[49m\u001b[38;5;241;43m*\u001b[39;49m\u001b[43m \u001b[49m\u001b[38;5;241;43m255.0\u001b[39;49m\u001b[43m)\u001b[49m \u001b[38;5;241m/\u001b[39m \u001b[38;5;241m255.0\u001b[39m\n\u001b[1;32m     83\u001b[0m editted \u001b[38;5;241m=\u001b[39m torch\u001b[38;5;241m.\u001b[39mtensor(editted)\n\u001b[1;32m     84\u001b[0m editted \u001b[38;5;241m=\u001b[39m F\u001b[38;5;241m.\u001b[39mrelu(editted)\n",
      "\u001b[0;31mKeyboardInterrupt\u001b[0m: "
     ]
    }
   ],
   "source": [
    "agent.start_time = time.time()\n",
    "for i in range(sac_config.total_timesteps):\n",
    "    episode_count = 0\n",
    "    \n",
    "    agent.reset_env()\n",
    "    envs_mean_rewards =[]\n",
    "    while True:     \n",
    "        episode_count+=1\n",
    "        agent.global_step+=1\n",
    "        mean_reward,batch_dones = agent.train()\n",
    "        envs_mean_rewards.append(mean_reward)\n",
    "        if(batch_dones==True).any():\n",
    "            print('one done')\n",
    "            print(agent.state.shape,agent.env.sub_env_running.shape)\n",
    "            print(agent.env.sub_env_running)\n",
    "        if (batch_dones==True).all()==True or episode_count==sac_config.max_episode_timesteps:\n",
    "            ens_mean_episodic_return = sum(envs_mean_rewards)\n",
    "            if agent.global_step % 100 == 0:\n",
    "                agent.writer.add_scalar(\"charts/episodic_return\", ens_mean_episodic_return, agent.global_step)\n",
    "                envs_mean_rewards =[]\n",
    "            episode_count=0           \n",
    "            agent.reset_env()\n",
    "            break     "
   ]
  },
  {
   "cell_type": "code",
   "execution_count": 6,
   "metadata": {},
   "outputs": [
    {
     "data": {
      "text/plain": [
       "20009"
      ]
     },
     "execution_count": 6,
     "metadata": {},
     "output_type": "execute_result"
    }
   ],
   "source": [
    "agent.global_step"
   ]
  },
  {
   "cell_type": "code",
   "execution_count": 108,
   "metadata": {},
   "outputs": [],
   "source": [
    "import cv2\n",
    "import torch\n",
    "import matplotlib.pyplot as plt\n",
    "source_image = cv2.imread(\"sample_images/a0001-jmac_DSC1459.jpg\")\n",
    "target_image = cv2.imread(\"sample_images/a0676-kme_609_C.jpg\")\n",
    "source_image = cv2.cvtColor(source_image, cv2.COLOR_BGR2RGB) \n",
    "target_image = cv2.cvtColor(target_image, cv2.COLOR_BGR2RGB) \n",
    "source_image = cv2.resize(source_image, (64, 64)) / 255.0\n",
    "target_image = cv2.resize(target_image, (64, 64)) / 255.0\n",
    "\n",
    "input = torch.Tensor(source_image).permute(2,0,1).unsqueeze(0)\n",
    "\n",
    "enhanced_image = input.clone()"
   ]
  },
  {
   "cell_type": "code",
   "execution_count": 35,
   "metadata": {},
   "outputs": [
    {
     "data": {
      "text/plain": [
       "(64, 64, 3)"
      ]
     },
     "execution_count": 35,
     "metadata": {},
     "output_type": "execute_result"
    }
   ],
   "source": [
    "input.shape"
   ]
  },
  {
   "cell_type": "code",
   "execution_count": 109,
   "metadata": {},
   "outputs": [
    {
     "data": {
      "text/plain": [
       "<matplotlib.image.AxesImage at 0x73bf5de6ff10>"
      ]
     },
     "execution_count": 109,
     "metadata": {},
     "output_type": "execute_result"
    },
    {
     "data": {
      "image/png": "[encoded data removed]",
      "text/plain": [
       "<Figure size 640x480 with 1 Axes>"
      ]
     },
     "metadata": {},
     "output_type": "display_data"
    }
   ],
   "source": [
    "plt.imshow(target_image)"
   ]
  },
  {
   "cell_type": "code",
   "execution_count": 110,
   "metadata": {},
   "outputs": [
    {
     "data": {
      "text/plain": [
       "<matplotlib.image.AxesImage at 0x73bf5deece10>"
      ]
     },
     "execution_count": 110,
     "metadata": {},
     "output_type": "execute_result"
    },
    {
     "data": {
      "image/png": "[encoded data removed]",
      "text/plain": [
       "<Figure size 640x480 with 1 Axes>"
      ]
     },
     "metadata": {},
     "output_type": "display_data"
    }
   ],
   "source": [
    "plt.imshow(source_image)"
   ]
  },
  {
   "cell_type": "code",
   "execution_count": 111,
   "metadata": {},
   "outputs": [],
   "source": [
    "from envs.features_extractor import ResnetEncoder\n",
    "from envs.new_edit_photo import PhotoEditor\n",
    "import matplotlib.pyplot as plt\n",
    "photo_editor = PhotoEditor()\n",
    "image_encoder = ResnetEncoder()"
   ]
  },
  {
   "cell_type": "code",
   "execution_count": 101,
   "metadata": {},
   "outputs": [
    {
     "data": {
      "text/plain": [
       "20009"
      ]
     },
     "execution_count": 101,
     "metadata": {},
     "output_type": "execute_result"
    }
   ],
   "source": [
    "agent.global_step"
   ]
  },
  {
   "cell_type": "code",
   "execution_count": 112,
   "metadata": {},
   "outputs": [],
   "source": [
    "encoded_source = image_encoder.encode(input)\n",
    "original_64 = input.permute(0,2,3,1)\n",
    "original_image = torch.Tensor(source_image).unsqueeze(0)"
   ]
  },
  {
   "cell_type": "code",
   "execution_count": null,
   "metadata": {},
   "outputs": [],
   "source": [
    "param = torch.tensor([0.125, 0.125, 0.375, 0.125, 0., 0.0625, 0.9375, 0.375, 0.0625, 0., 0.125, 0.125]).unsqueeze(0)"
   ]
  },
  {
   "cell_type": "code",
   "execution_count": 113,
   "metadata": {},
   "outputs": [],
   "source": [
    "enhanced_image=enhanced_image.permute(0,2,3,1)"
   ]
  },
  {
   "cell_type": "code",
   "execution_count": 120,
   "metadata": {},
   "outputs": [
    {
     "data": {
      "text/plain": [
       "(tensor([[-0.4093,  0.9322,  0.9479, -0.9823,  0.9816, -0.9015,  0.3370,  0.9441,\n",
       "          -0.9358,  0.9890,  0.9758, -0.9620]], device='cuda:0'),\n",
       " tensor([[15.3851]], device='cuda:0'),\n",
       " tensor([[-0.8766,  0.9491,  0.9208, -0.9627,  0.9272, -0.9294, -0.7929,  0.9514,\n",
       "          -0.8700,  0.9472,  0.8494, -0.9549]], device='cuda:0'))"
      ]
     },
     "execution_count": 120,
     "metadata": {},
     "output_type": "execute_result"
    }
   ],
   "source": [
    "for i in range(1):\n",
    "    with torch.no_grad():\n",
    "        encoded_enhanced = image_encoder.encode(enhanced_image.permute(0,3,1,2))\n",
    "        encoded_input = torch.cat([encoded_source,encoded_enhanced],dim=1)\n",
    "        parameters = agent.actor.get_action(encoded_input)\n",
    "        enhanced_image = photo_editor(original_64.cpu(),parameters[0].cpu())\n",
    "enhanced_image_512 = photo_editor(original_image.cpu(),parameters[0].cpu())\n",
    "parameters"
   ]
  },
  {
   "cell_type": "code",
   "execution_count": 58,
   "metadata": {},
   "outputs": [
    {
     "data": {
      "text/plain": [
       "torch.Size([1, 64, 64, 3])"
      ]
     },
     "execution_count": 58,
     "metadata": {},
     "output_type": "execute_result"
    }
   ],
   "source": [
    "enhanced_image.shape"
   ]
  },
  {
   "cell_type": "code",
   "execution_count": null,
   "metadata": {},
   "outputs": [],
   "source": [
    "enhanced =torch.flatten(enhanced_image_512.clone(),start_dim=1, end_dim=-1)\n",
    "target = torch.flatten(original_image.clone(),start_dim=1, end_dim=-1)\n",
    "\n",
    "rmse = enhanced-target\n",
    "rmse = torch.pow(rmse,2).mean(1)"
   ]
  },
  {
   "cell_type": "code",
   "execution_count": null,
   "metadata": {},
   "outputs": [],
   "source": [
    "rmse"
   ]
  },
  {
   "cell_type": "code",
   "execution_count": 121,
   "metadata": {},
   "outputs": [
    {
     "data": {
      "text/plain": [
       "<matplotlib.image.AxesImage at 0x73bf5dcb7f90>"
      ]
     },
     "execution_count": 121,
     "metadata": {},
     "output_type": "execute_result"
    },
    {
     "data": {
      "image/png": "[encoded data removed]",
      "text/plain": [
       "<Figure size 640x480 with 1 Axes>"
      ]
     },
     "metadata": {},
     "output_type": "display_data"
    }
   ],
   "source": [
    "plt.imshow(enhanced_image_512[0])"
   ]
  }
 ],
 "metadata": {
  "kernelspec": {
   "display_name": "photoen",
   "language": "python",
   "name": "python3"
  },
  "language_info": {
   "codemirror_mode": {
    "name": "ipython",
    "version": 3
   },
   "file_extension": ".py",
   "mimetype": "text/x-python",
   "name": "python",
   "nbconvert_exporter": "python",
   "pygments_lexer": "ipython3",
   "version": "3.11.9"
  }
 },
 "nbformat": 4,
 "nbformat_minor": 2
}
