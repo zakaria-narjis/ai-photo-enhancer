{
 "cells": [
  {
   "cell_type": "code",
   "execution_count": 72,
   "metadata": {},
   "outputs": [
    {
     "data": {
      "text/plain": [
       "tensor([[[0.5575, 0.5457, 0.6759],\n",
       "         [0.6426, 0.5401, 0.7224],\n",
       "         [0.5039, 0.6169, 0.5694],\n",
       "         [0.5044, 0.6592, 0.5000]],\n",
       "\n",
       "        [[0.6185, 0.6470, 0.7081],\n",
       "         [0.5825, 0.6417, 0.6335],\n",
       "         [0.6799, 0.5593, 0.7011],\n",
       "         [0.6615, 0.6089, 0.6963]],\n",
       "\n",
       "        [[0.6433, 0.5451, 0.6221],\n",
       "         [0.5189, 0.6083, 0.6928],\n",
       "         [0.5525, 0.5980, 0.6153],\n",
       "         [0.6191, 0.5119, 0.6352]],\n",
       "\n",
       "        [[0.6917, 0.5375, 0.5412],\n",
       "         [0.6235, 0.5627, 0.6107],\n",
       "         [0.7020, 0.5184, 0.5431],\n",
       "         [0.5916, 0.6807, 0.7174]]])"
      ]
     },
     "execution_count": 72,
     "metadata": {},
     "output_type": "execute_result"
    }
   ],
   "source": [
    "import torch\n",
    "import numpy as np\n",
    "import torch.nn.functional as F\n",
    "a= torch.rand(4,4, 3)\n",
    "torch.sigmoid(a)\n"
   ]
  },
  {
   "cell_type": "code",
   "execution_count": 73,
   "metadata": {},
   "outputs": [],
   "source": [
    "def relu(x):\n",
    "    x_ = x.copy()\n",
    "    x_[x_<0] = 0\n",
    "    return x_\n",
    "\n",
    "class AdjustContraste():\n",
    "    def __init__(self):\n",
    "        self.num_parameters = 1\n",
    "        self.window_names = [\"parameter\"]\n",
    "        self.slider_names = [\"contrast\"]\n",
    "\n",
    "    def __call__(self, list_editted, parameters):     \n",
    "        editted  =  list_editted.numpy()\n",
    "\n",
    "        mean = editted.mean()\n",
    "        editted_ = (editted-mean)*(parameters[0]+1)+mean\n",
    "        editted_ = relu(editted_)\n",
    "        editted_ = 1-relu(1-editted_)\n",
    "        return [editted_]"
   ]
  },
  {
   "cell_type": "code",
   "execution_count": 79,
   "metadata": {},
   "outputs": [],
   "source": [
    "old = AdjustContraste()(a,[0.5])[0]"
   ]
  },
  {
   "cell_type": "code",
   "execution_count": 25,
   "metadata": {},
   "outputs": [
    {
     "name": "stderr",
     "output_type": "stream",
     "text": [
      "/tmp/ipykernel_103433/3352330405.py:12: DeprecationWarning: __array_wrap__ must accept context and return_scalar arguments (positionally) in the future. (Deprecated NumPy 2.0)\n",
      "  return -np.log(1/(y_)-1)\n"
     ]
    },
    {
     "data": {
      "text/plain": [
       "tensor([-0.8648,  0.8165, -1.3251, -0.7355])"
      ]
     },
     "execution_count": 25,
     "metadata": {},
     "output_type": "execute_result"
    }
   ],
   "source": [
    "sigmoid_inverse(a)"
   ]
  },
  {
   "cell_type": "code",
   "execution_count": 40,
   "metadata": {},
   "outputs": [],
   "source": [
    "class AdjustContrast():\n",
    "    def __init__(self):\n",
    "        self.num_parameters = 1\n",
    "        self.window_names = [\"parameter\"]\n",
    "        self.slider_names = [\"contrast\"]\n",
    "\n",
    "    def __call__(self, images:torch.Tensor, parameters:torch.Tensor):\n",
    "        mean = images.mean()\n",
    "        editted = (images-mean)*(parameters[0]+1)+mean\n",
    "        editted = F.relu(editted)\n",
    "        editted= 1-F.relu(1-editted)\n",
    "        return [editted]"
   ]
  },
  {
   "cell_type": "code",
   "execution_count": 38,
   "metadata": {},
   "outputs": [
    {
     "data": {
      "text/plain": [
       "torch.float32"
      ]
     },
     "execution_count": 38,
     "metadata": {},
     "output_type": "execute_result"
    }
   ],
   "source": [
    "torch.Tensor([0.5]).dtype"
   ]
  },
  {
   "cell_type": "code",
   "execution_count": 76,
   "metadata": {},
   "outputs": [],
   "source": [
    "new = AdjustContrast()(a,torch.Tensor([0.5]))"
   ]
  },
  {
   "cell_type": "code",
   "execution_count": 80,
   "metadata": {},
   "outputs": [
    {
     "data": {
      "text/plain": [
       "array([[[[ True,  True,  True],\n",
       "         [ True,  True,  True],\n",
       "         [ True,  True,  True],\n",
       "         [ True,  True,  True]],\n",
       "\n",
       "        [[ True,  True,  True],\n",
       "         [ True,  True,  True],\n",
       "         [ True,  True,  True],\n",
       "         [ True,  True,  True]],\n",
       "\n",
       "        [[ True,  True,  True],\n",
       "         [ True,  True,  True],\n",
       "         [ True,  True,  True],\n",
       "         [ True,  True,  True]],\n",
       "\n",
       "        [[ True,  True,  True],\n",
       "         [ True,  True,  True],\n",
       "         [ True,  True,  True],\n",
       "         [ True,  True,  True]]]])"
      ]
     },
     "execution_count": 80,
     "metadata": {},
     "output_type": "execute_result"
    }
   ],
   "source": [
    "old==new"
   ]
  }
 ],
 "metadata": {
  "kernelspec": {
   "display_name": "photoen",
   "language": "python",
   "name": "python3"
  },
  "language_info": {
   "codemirror_mode": {
    "name": "ipython",
    "version": 3
   },
   "file_extension": ".py",
   "mimetype": "text/x-python",
   "name": "python",
   "nbconvert_exporter": "python",
   "pygments_lexer": "ipython3",
   "version": "3.11.9"
  }
 },
 "nbformat": 4,
 "nbformat_minor": 2
}
