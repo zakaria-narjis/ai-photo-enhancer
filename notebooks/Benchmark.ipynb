{
 "cells": [
  {
   "cell_type": "code",
   "execution_count": 7,
   "metadata": {},
   "outputs": [],
   "source": [
    "import os \n",
    "os.chdir('../src')"
   ]
  },
  {
   "cell_type": "code",
   "execution_count": 9,
   "metadata": {},
   "outputs": [],
   "source": [
    "from envs.env_dataloader import create_dataloaders\n",
    "import torchvision.transforms as transforms\n",
    "from torchvision.transforms import v2\n",
    "from torchmetrics.image import StructuralSimilarityIndexMeasure\n",
    "from envs.new_edit_photo import PhotoEditor\n",
    "from sac.sac_inference import InferenceAgent\n",
    "import yaml\n",
    "from envs.photo_env import PhotoEnhancementEnvTest\n",
    "import numpy as np\n",
    "import argparse\n",
    "import logging\n",
    "import os\n",
    "from pathlib import Path\n",
    "from tqdm import tqdm"
   ]
  },
  {
   "cell_type": "code",
   "execution_count": 38,
   "metadata": {},
   "outputs": [],
   "source": [
    "class Config(object):\n",
    "    def __init__(self, dictionary):\n",
    "        self.__dict__.update(dictionary)\n",
    "\n",
    "with open(os.path.join(\"configs/inference_config.yaml\")) as f:\n",
    "    inf_config_dict =yaml.load(f, Loader=yaml.FullLoader)\n",
    "inference_config = Config(inf_config_dict)"
   ]
  },
  {
   "cell_type": "code",
   "execution_count": 39,
   "metadata": {},
   "outputs": [],
   "source": [
    "experiments_path = '../experiments/runs/'\n",
    "models_path = [os.path.join(experiments_path,model_path) for model_path in os.listdir(experiments_path)]"
   ]
  },
  {
   "cell_type": "code",
   "execution_count": 40,
   "metadata": {},
   "outputs": [
    {
     "data": {
      "text/plain": [
       "['../experiments/runs/ResNetEncoder__solos__2024-07-08_14-39-07',\n",
       " '../experiments/runs/ResNetEncoder__fivesliders__2024-07-10_15-57-44',\n",
       " '../experiments/runs/ResNetEncoder__fiveslidersaug__2024-07-12_14-59-37',\n",
       " '../experiments/runs/ResNetEncoder__sixsliders__2024-07-11_21-02-42',\n",
       " '../experiments/runs/ResNetEncoder__allsliders__2024-07-09_16-04-37',\n",
       " '../experiments/runs/ResNetEncoder__ninesliders__2024-07-11_22-58-05']"
      ]
     },
     "execution_count": 40,
     "metadata": {},
     "output_type": "execute_result"
    }
   ],
   "source": [
    "models_path.remove('../experiments/runs/ResNetEncoder__1__1720274282')\n",
    "models_path.remove('../experiments/runs/ResNetEncoder__1__1719841165')\n",
    "models_path"
   ]
  },
  {
   "cell_type": "code",
   "execution_count": 41,
   "metadata": {},
   "outputs": [],
   "source": [
    "\n",
    "models_names = [name.split('/')[-1] for name in models_path]"
   ]
  },
  {
   "cell_type": "code",
   "execution_count": 42,
   "metadata": {},
   "outputs": [
    {
     "data": {
      "text/plain": [
       "['ResNetEncoder__solos__2024-07-08_14-39-07',\n",
       " 'ResNetEncoder__fivesliders__2024-07-10_15-57-44',\n",
       " 'ResNetEncoder__fiveslidersaug__2024-07-12_14-59-37',\n",
       " 'ResNetEncoder__sixsliders__2024-07-11_21-02-42',\n",
       " 'ResNetEncoder__allsliders__2024-07-09_16-04-37',\n",
       " 'ResNetEncoder__ninesliders__2024-07-11_22-58-05']"
      ]
     },
     "execution_count": 42,
     "metadata": {},
     "output_type": "execute_result"
    }
   ],
   "source": [
    "models_names"
   ]
  },
  {
   "cell_type": "code",
   "execution_count": 43,
   "metadata": {},
   "outputs": [
    {
     "name": "stderr",
     "output_type": "stream",
     "text": [
      " 68%|██████▊   | 338/500 [01:09<00:36,  4.40it/s]"
     ]
    }
   ],
   "source": [
    "all_psnrs = []\n",
    "all_ssims = []\n",
    "for model_path in models_path:\n",
    "    with open(os.path.join(model_path,\"configs/sac_config.yaml\")) as f:\n",
    "        sac_config_dict =yaml.load(f, Loader=yaml.FullLoader)\n",
    "    with open(os.path.join(model_path,\"configs/env_config.yaml\")) as f:\n",
    "        env_config_dict =yaml.load(f, Loader=yaml.FullLoader)\n",
    "\n",
    "    sac_config = Config(sac_config_dict)\n",
    "    env_config = Config(env_config_dict)\n",
    "\n",
    "    photo_editor = PhotoEditor(env_config.sliders_to_use)\n",
    "\n",
    "    inference_env = PhotoEnhancementEnvTest(\n",
    "                        batch_size=inference_config.batch_size,\n",
    "                        imsize=inference_config.imsize,\n",
    "                        training_mode=False,\n",
    "                        done_threshold=inference_config.threshold_psnr,\n",
    "                        pre_encode=False,\n",
    "                        edit_sliders=env_config.sliders_to_use,\n",
    "                        features_size=inference_config.features_size,\n",
    "                        discretize=env_config.discretize,\n",
    "                        discretize_step= env_config.discretize_step,\n",
    "                        logger=None)\n",
    "\n",
    "    inf_agent =InferenceAgent(inference_env, inference_config)\n",
    "    inf_agent.load_backbone(os.path.join(model_path,'models','backbone.pth'))\n",
    "    inf_agent.load_actor_weights(os.path.join(model_path,'models','actor_head.pth'))\n",
    "    inf_agent.load_critics_weights( os.path.join(model_path,'models','qf1_head.pth'), os.path.join(model_path,'models','qf2_head.pth'))\n",
    "\n",
    "    ssim_metric = StructuralSimilarityIndexMeasure()\n",
    "    test_512 = create_dataloaders(batch_size=1,image_size=64,train=False,pre_encode= False,shuffle=False,resize=False)\n",
    "    transform = transforms.Compose([\n",
    "                v2.Resize(size = (64,64), interpolation= transforms.InterpolationMode.BICUBIC),\n",
    "            ])\n",
    "    PSNRS = []\n",
    "    SSIM = []\n",
    "    for i,t in tqdm(test_512, position=0, leave=True):\n",
    "        source = i/255.0\n",
    "        target = t/255.0 \n",
    "        parameters = inf_agent.act(obs=transform(source),deterministic=True)\n",
    "        enhanced_image = photo_editor((source.permute(0,2,3,1)).cpu(),parameters[2].cpu())\n",
    "        psnr = inference_env.compute_rewards(enhanced_image.permute(0,3,1,2),target).item()+50\n",
    "        ssim = ssim_metric(enhanced_image.permute(0,3,1,2),target).item()\n",
    "        PSNRS.append(psnr)\n",
    "        SSIM.append(ssim)\n",
    "    mean_PSNRS = round(np.mean(PSNRS),2)\n",
    "    mean_SSIM = round(np.mean(SSIM),3)\n",
    "    all_psnrs.append(mean_PSNRS)\n",
    "    all_ssims.append(mean_SSIM)"
   ]
  },
  {
   "cell_type": "code",
   "execution_count": null,
   "metadata": {},
   "outputs": [],
   "source": [
    "fig, (ax1, ax2) = plt.subplots(2, 1, figsize=(12, 10))\n",
    "\n",
    "# PSNR plot\n",
    "ax1.bar(model_names, all_psnrs)\n",
    "ax1.set_title('Mean PSNR for Different Models')\n",
    "ax1.set_xlabel('Models')\n",
    "ax1.set_ylabel('PSNR')\n",
    "ax1.set_xticklabels(model_names, rotation=45, ha='right')\n",
    "\n",
    "# SSIM plot\n",
    "ax2.bar(model_names, all_ssims)\n",
    "ax2.set_title('Mean SSIM for Different Models')\n",
    "ax2.set_xlabel('Models')\n",
    "ax2.set_ylabel('SSIM')\n",
    "ax2.set_xticklabels(model_names, rotation=45, ha='right')\n",
    "\n",
    "plt.tight_layout()\n",
    "plt.show()"
   ]
  }
 ],
 "metadata": {
  "kernelspec": {
   "display_name": "photoen",
   "language": "python",
   "name": "python3"
  },
  "language_info": {
   "codemirror_mode": {
    "name": "ipython",
    "version": 3
   },
   "file_extension": ".py",
   "mimetype": "text/x-python",
   "name": "python",
   "nbconvert_exporter": "python",
   "pygments_lexer": "ipython3",
   "version": "3.11.9"
  }
 },
 "nbformat": 4,
 "nbformat_minor": 2
}
