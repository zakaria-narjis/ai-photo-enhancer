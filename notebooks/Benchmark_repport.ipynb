{
 "cells": [
  {
   "cell_type": "code",
   "execution_count": 1,
   "metadata": {},
   "outputs": [],
   "source": [
    "import os"
   ]
  },
  {
   "cell_type": "code",
   "execution_count": 2,
   "metadata": {},
   "outputs": [
    {
     "data": {
      "text/plain": [
       "'/home/zakaria/workspace/ai-photo-enhancer'"
      ]
     },
     "execution_count": 2,
     "metadata": {},
     "output_type": "execute_result"
    }
   ],
   "source": [
    "os.chdir('../')\n",
    "os.getcwd()"
   ]
  },
  {
   "cell_type": "code",
   "execution_count": 6,
   "metadata": {},
   "outputs": [],
   "source": [
    "from src.envs.new_edit_photo import PhotoEditor\n",
    "from src.envs.photo_env import PhotoEnhancementEnvTest\n",
    "from src.sac.sac_inference import InferenceAgent\n",
    "import yaml\n",
    "import torch"
   ]
  },
  {
   "cell_type": "code",
   "execution_count": 7,
   "metadata": {},
   "outputs": [],
   "source": [
    "class Config(object):\n",
    "    def __init__(self, dictionary):\n",
    "        self.__dict__.update(dictionary)\n",
    "\n",
    "def load_preprocessor_agent(preprocessor_agent_path, device):\n",
    "    # with open(\n",
    "    #     os.path.join(preprocessor_agent_path, \"configs/sac_config.yaml\")\n",
    "    # ) as f:\n",
    "    #     sac_config_dict = yaml.load(f, Loader=yaml.FullLoader)\n",
    "    with open(\n",
    "        os.path.join(preprocessor_agent_path, \"configs/env_config.yaml\")\n",
    "    ) as f:\n",
    "        env_config_dict = yaml.load(f, Loader=yaml.FullLoader)\n",
    "    with open(os.path.join(\"src/configs/inference_config.yaml\")) as f:\n",
    "        inf_config_dict = yaml.load(f, Loader=yaml.FullLoader)\n",
    "\n",
    "    inference_config = Config(inf_config_dict)\n",
    "    # sac_config = Config(sac_config_dict)\n",
    "    env_config = Config(env_config_dict)\n",
    "\n",
    "    inference_env = PhotoEnhancementEnvTest(\n",
    "        batch_size=env_config.train_batch_size,\n",
    "        imsize=env_config.imsize,\n",
    "        training_mode=None,\n",
    "        done_threshold=env_config.threshold_psnr,\n",
    "        edit_sliders=env_config.sliders_to_use,\n",
    "        features_size=env_config.features_size,\n",
    "        discretize=env_config.discretize,\n",
    "        discretize_step=env_config.discretize_step,\n",
    "        use_txt_features=(\n",
    "            env_config.use_txt_features\n",
    "            if hasattr(env_config, \"use_txt_features\")\n",
    "            else False\n",
    "        ),\n",
    "        augment_data=False,\n",
    "        pre_encoding_device=device,\n",
    "        pre_load_images=False,\n",
    "        logger=None,\n",
    "    )\n",
    "\n",
    "    inference_config.device = device\n",
    "    preprocessor_agent = InferenceAgent(inference_env, inference_config)\n",
    "    preprocessor_agent.device = device\n",
    "    preprocessor_agent.load_backbone(\n",
    "        os.path.join(preprocessor_agent_path, \"models\", \"backbone.pth\")\n",
    "    )\n",
    "    preprocessor_agent.load_actor_weights(\n",
    "        os.path.join(preprocessor_agent_path, \"models\", \"actor_head.pth\")\n",
    "    )\n",
    "    preprocessor_agent.load_critics_weights(\n",
    "        os.path.join(preprocessor_agent_path, \"models\", \"qf1_head.pth\"),\n",
    "        os.path.join(preprocessor_agent_path, \"models\", \"qf2_head.pth\"),\n",
    "    )\n",
    "    return preprocessor_agent"
   ]
  }
 ],
 "metadata": {
  "kernelspec": {
   "display_name": "photoen",
   "language": "python",
   "name": "python3"
  },
  "language_info": {
   "codemirror_mode": {
    "name": "ipython",
    "version": 3
   },
   "file_extension": ".py",
   "mimetype": "text/x-python",
   "name": "python",
   "nbconvert_exporter": "python",
   "pygments_lexer": "ipython3",
   "version": "3.11.9"
  }
 },
 "nbformat": 4,
 "nbformat_minor": 2
}
