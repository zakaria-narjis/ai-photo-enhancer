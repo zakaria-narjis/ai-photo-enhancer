{
 "cells": [
  {
   "cell_type": "code",
   "execution_count": 1,
   "metadata": {},
   "outputs": [],
   "source": [
    "import os"
   ]
  },
  {
   "cell_type": "code",
   "execution_count": 2,
   "metadata": {},
   "outputs": [
    {
     "data": {
      "text/plain": [
       "'/home/zakaria/workspace/ai-photo-enhancer'"
      ]
     },
     "execution_count": 2,
     "metadata": {},
     "output_type": "execute_result"
    }
   ],
   "source": [
    "os.chdir('../')\n",
    "os.getcwd()"
   ]
  },
  {
   "cell_type": "code",
   "execution_count": 3,
   "metadata": {},
   "outputs": [],
   "source": [
    "from src.envs.new_edit_photo import PhotoEditor\n",
    "from src.envs.photo_env import PhotoEnhancementEnvTest\n",
    "from src.sac.sac_inference import InferenceAgent\n",
    "import yaml\n",
    "import torch\n",
    "from tensordict import TensorDict\n",
    "import torchvision.transforms.v2.functional as F\n",
    "from src.envs.env_dataloader import create_dataloaders\n",
    "from torchmetrics.image import StructuralSimilarityIndexMeasure\n",
    "from tqdm import tqdm\n",
    "import numpy as np"
   ]
  },
  {
   "cell_type": "code",
   "execution_count": 4,
   "metadata": {},
   "outputs": [],
   "source": [
    "model_path = 'experiments/runs/ResHist__224_128_aug_hist__2024-07-26_16-17-35'\n",
    "model_path = 'experiments/runs/ResNet_10_sliders__224_128_aug__2024-07-23_21-23-35'\n",
    "model_paths = ['experiments/runs/ResNet_10_sliders__224_128_aug__2024-07-23_21-23-35',\n",
    "               'experiments/runs/ResHist__224_128_aug_hist__2024-07-26_16-17-35']\n",
    "DEVICE='cpu'"
   ]
  },
  {
   "cell_type": "code",
   "execution_count": 5,
   "metadata": {},
   "outputs": [],
   "source": [
    "class Config(object):\n",
    "    def __init__(self, dictionary):\n",
    "        self.__dict__.update(dictionary)\n",
    "\n",
    "def load_preprocessor_agent(preprocessor_agent_path, device):\n",
    "    # with open(\n",
    "    #     os.path.join(preprocessor_agent_path, \"configs/sac_config.yaml\")\n",
    "    # ) as f:\n",
    "    #     sac_config_dict = yaml.load(f, Loader=yaml.FullLoader)\n",
    "    with open(\n",
    "        os.path.join(preprocessor_agent_path, \"configs/env_config.yaml\")\n",
    "    ) as f:\n",
    "        env_config_dict = yaml.load(f, Loader=yaml.FullLoader)\n",
    "    with open(os.path.join(\"src/configs/inference_config.yaml\")) as f:\n",
    "        inf_config_dict = yaml.load(f, Loader=yaml.FullLoader)\n",
    "\n",
    "    inference_config = Config(inf_config_dict)\n",
    "    # sac_config = Config(sac_config_dict)\n",
    "    env_config = Config(env_config_dict)\n",
    "\n",
    "    inference_env = PhotoEnhancementEnvTest(\n",
    "        batch_size=env_config.train_batch_size,\n",
    "        imsize=env_config.imsize,\n",
    "        training_mode=False,\n",
    "        done_threshold=env_config.threshold_psnr,\n",
    "        edit_sliders=env_config.sliders_to_use,\n",
    "        features_size=env_config.features_size,\n",
    "        discretize=env_config.discretize,\n",
    "        discretize_step=env_config.discretize_step,\n",
    "        use_txt_features=(\n",
    "            env_config.use_txt_features\n",
    "            if hasattr(env_config, \"use_txt_features\")\n",
    "            else False\n",
    "        ),\n",
    "        augment_data=False,\n",
    "        pre_encoding_device=device,\n",
    "        pre_load_images=False,\n",
    "        logger=None,\n",
    "    )\n",
    "\n",
    "    inference_config.device = device\n",
    "    preprocessor_agent = InferenceAgent(inference_env, inference_config)\n",
    "    preprocessor_agent.device = device\n",
    "    preprocessor_agent.load_backbone(\n",
    "        os.path.join(preprocessor_agent_path, \"models\", \"backbone.pth\")\n",
    "    )\n",
    "    preprocessor_agent.load_actor_weights(\n",
    "        os.path.join(preprocessor_agent_path, \"models\", \"actor_head.pth\")\n",
    "    )\n",
    "    preprocessor_agent.load_critics_weights(\n",
    "        os.path.join(preprocessor_agent_path, \"models\", \"qf1_head.pth\"),\n",
    "        os.path.join(preprocessor_agent_path, \"models\", \"qf2_head.pth\"),\n",
    "    )\n",
    "    return preprocessor_agent,env_config\n",
    "\n",
    "def generate_parameters(enhancer_agent,image, deterministic=True,DEVICE=DEVICE):\n",
    "    input_image = image.to(DEVICE)\n",
    "    input_image = input_image.permute(0, 3, 1, 2)\n",
    "    IMAGE_SIZE = enhancer_agent.env.imsize\n",
    "    input_image = F.resize(\n",
    "        input_image,\n",
    "        (IMAGE_SIZE, IMAGE_SIZE),\n",
    "        interpolation=F.InterpolationMode.BICUBIC,\n",
    "    )\n",
    "    batch_observation = TensorDict(\n",
    "        {\n",
    "            \"batch_images\": input_image,\n",
    "        },\n",
    "        batch_size=[input_image.shape[0]],\n",
    "    )\n",
    "    parameters = enhancer_agent.act(\n",
    "        batch_observation, deterministic=deterministic, n_samples=0\n",
    "    )\n",
    "    return parameters"
   ]
  },
  {
   "cell_type": "code",
   "execution_count": 6,
   "metadata": {},
   "outputs": [],
   "source": [
    "def compute_500px(agent,env_config):\n",
    "    photo_editor = PhotoEditor(env_config.sliders_to_use)\n",
    "    ssim_metric = StructuralSimilarityIndexMeasure().to(DEVICE)\n",
    "    test_512 = create_dataloaders(\n",
    "        batch_size=1,\n",
    "        image_size=env_config.imsize,\n",
    "        use_txt_features=False,\n",
    "        train=False,\n",
    "        augment_data=False,\n",
    "        shuffle=False,\n",
    "        resize=False,\n",
    "        pre_encoding_device=DEVICE,\n",
    "        pre_load_images=False,\n",
    "    )\n",
    "    test_resized = create_dataloaders(\n",
    "        batch_size=500,\n",
    "        image_size=env_config.imsize,\n",
    "        use_txt_features=(\n",
    "            env_config.use_txt_features\n",
    "            if hasattr(env_config, \"use_txt_features\")\n",
    "            else False\n",
    "        ),\n",
    "        train=False,\n",
    "        augment_data=False,\n",
    "        shuffle=False,\n",
    "        resize=True,\n",
    "        pre_encoding_device=DEVICE,\n",
    "        pre_load_images=True,\n",
    "    )\n",
    "    PSNRS = []\n",
    "    SSIM = []\n",
    "    agent.env.dataloader = test_resized\n",
    "    agent.env.iter_dataloader = iter(test_resized)\n",
    "    agent.env.batch_size = 500\n",
    "    batch_images = agent.env.reset()\n",
    "    parameters = agent.act(\n",
    "        batch_images, deterministic=True\n",
    "    )\n",
    "    parameter_counter = 0\n",
    "    for i, t in tqdm(test_512, position=0, leave=True):\n",
    "        source = i / 255.0\n",
    "        target = t / 255.0\n",
    "        enhanced_image = source.permute(0, 2, 3, 1)\n",
    "        enhanced_image = photo_editor(\n",
    "            enhanced_image.to(DEVICE),\n",
    "            parameters[parameter_counter].unsqueeze(0).to(DEVICE),\n",
    "        )\n",
    "        enhanced_image = enhanced_image.permute(0, 3, 1, 2)  # B,C,H,W\n",
    "        psnr = (\n",
    "            agent.env.compute_rewards(\n",
    "                enhanced_image.to(DEVICE), target.to(DEVICE)\n",
    "            ).item()\n",
    "            + 50\n",
    "        )\n",
    "        ssim = ssim_metric(\n",
    "            enhanced_image.to(DEVICE), target.to(DEVICE)\n",
    "        ).item()\n",
    "        PSNRS.append(psnr)\n",
    "        SSIM.append(ssim)\n",
    "        parameter_counter += 1\n",
    "    mean_PSNRS = round(np.mean(PSNRS), 2)\n",
    "    mean_SSIM = round(np.mean(SSIM), 3)\n",
    "    return mean_PSNRS, mean_SSIM"
   ]
  },
  {
   "cell_type": "code",
   "execution_count": 7,
   "metadata": {},
   "outputs": [
    {
     "name": "stdout",
     "output_type": "stream",
     "text": [
      "Preloading images and features...\n"
     ]
    },
    {
     "name": "stderr",
     "output_type": "stream",
     "text": [
      "100%|██████████| 500/500 [00:01<00:00, 264.42it/s]\n"
     ]
    },
    {
     "name": "stdout",
     "output_type": "stream",
     "text": [
      "Images and features preloaded and stored in GPU memory.\n"
     ]
    },
    {
     "name": "stderr",
     "output_type": "stream",
     "text": [
      "100%|██████████| 500/500 [00:47<00:00, 10.46it/s]\n"
     ]
    }
   ],
   "source": [
    "agent,env_config = load_preprocessor_agent(model_path, DEVICE)\n",
    "a,b=compute_500px(agent,env_config)"
   ]
  },
  {
   "cell_type": "code",
   "execution_count": 10,
   "metadata": {},
   "outputs": [
    {
     "data": {
      "text/plain": [
       "22.56"
      ]
     },
     "execution_count": 10,
     "metadata": {},
     "output_type": "execute_result"
    }
   ],
   "source": [
    "a\n"
   ]
  }
 ],
 "metadata": {
  "kernelspec": {
   "display_name": "photoen",
   "language": "python",
   "name": "python3"
  },
  "language_info": {
   "codemirror_mode": {
    "name": "ipython",
    "version": 3
   },
   "file_extension": ".py",
   "mimetype": "text/x-python",
   "name": "python",
   "nbconvert_exporter": "python",
   "pygments_lexer": "ipython3",
   "version": "3.11.9"
  }
 },
 "nbformat": 4,
 "nbformat_minor": 2
}
