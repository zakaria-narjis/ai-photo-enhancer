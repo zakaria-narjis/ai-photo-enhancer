{
 "cells": [
  {
   "cell_type": "code",
   "execution_count": 4,
   "metadata": {},
   "outputs": [],
   "source": [
    "from torch.utils.data import Dataset\n",
    "from torchvision.io import read_image\n",
    "import torchvision.transforms.v2.functional as F\n",
    "import random\n",
    "import os\n",
    "from pathlib import Path\n",
    "\n",
    "\n",
    "\n",
    "# torch.inference_mode():\n",
    "class FiveKDataset(Dataset):\n",
    "    \"\"\"\n",
    "    A dataset that reads Adobe5K dataset images\n",
    "    output : tensor of unprocessed images\n",
    "    \"\"\"\n",
    "    def __init__(self, image_size,mode=\"train\", resize= True,augment_data=True):\n",
    "        current_dir = os.getcwd()\n",
    "        dataset_dir = os.path.join(current_dir, \"..\", \"dataset\", \"FiveK\")\n",
    "        \n",
    "        if mode =='train':\n",
    "            self.IMGS_PATH = os.path.join(dataset_dir, \"train\")\n",
    "        else:\n",
    "            self.IMGS_PATH = os.path.join(dataset_dir, \"test\")\n",
    "        self.resize= resize\n",
    "        self.image_size =image_size\n",
    "        self.augment_data = augment_data\n",
    "        self.img_files = [filename for filename in os.listdir(self.IMGS_PATH+'/input/')]\n",
    "\n",
    "    def __len__(self):\n",
    "        return len(self.img_files)\n",
    "    \n",
    "    def __getitem__(self,idx):\n",
    "        source_path = self.img_files[idx]\n",
    "\n",
    "        source = read_image(self.IMGS_PATH+'/input/'+source_path)\n",
    "        target = read_image(self.IMGS_PATH+'/target/'+source_path)\n",
    "        if self.resize:\n",
    "            source =  F.resize(source,(self.image_size,self.image_size), interpolation= F.InterpolationMode.BICUBIC)\n",
    "            target =  F.resize(target,(self.image_size,self.image_size), interpolation= F.InterpolationMode.BICUBIC)\n",
    "            \n",
    "        if self.augment_data:\n",
    "            if random.random() > 0.5:\n",
    "                source = F.hflip(source)\n",
    "                target = F.hflip(target)\n",
    "            if random.random() > 0.5:\n",
    "                source = F.vflip(source)\n",
    "                target = F.vflip(target)\n",
    "            \n",
    "        # source = self.transform(Image.open(ORIGINAL_FOLDER+source_path))\n",
    "\n",
    "        return source, target\n"
   ]
  },
  {
   "cell_type": "code",
   "execution_count": 5,
   "metadata": {},
   "outputs": [
    {
     "data": {
      "text/plain": [
       "<__main__.FiveKDataset at 0x759bcfd94a90>"
      ]
     },
     "execution_count": 5,
     "metadata": {},
     "output_type": "execute_result"
    }
   ],
   "source": [
    "FiveKDataset(64)"
   ]
  }
 ],
 "metadata": {
  "kernelspec": {
   "display_name": "photoen",
   "language": "python",
   "name": "python3"
  },
  "language_info": {
   "codemirror_mode": {
    "name": "ipython",
    "version": 3
   },
   "file_extension": ".py",
   "mimetype": "text/x-python",
   "name": "python",
   "nbconvert_exporter": "python",
   "pygments_lexer": "ipython3",
   "version": "3.11.9"
  }
 },
 "nbformat": 4,
 "nbformat_minor": 2
}
