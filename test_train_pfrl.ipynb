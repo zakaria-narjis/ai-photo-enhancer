{
 "cells": [
  {
   "cell_type": "code",
   "execution_count": 1,
   "metadata": {},
   "outputs": [],
   "source": [
    "import torch\n",
    "from torch import distributions, nn\n",
    "import pfrl\n",
    "from pfrl import experiments, replay_buffers, utils\n",
    "from pfrl.nn.lmbda import Lambda\n",
    "from pfrl.nn import BoundByTanh, ConcatObsAndAction"
   ]
  },
  {
   "cell_type": "code",
   "execution_count": 2,
   "metadata": {},
   "outputs": [],
   "source": [
    "train_options = {\n",
    "    'gamma':0.9,\n",
    "    'minibatch_size':64,\n",
    "    'tau':1e-2,\n",
    "    'replay_memory_size':50000\n",
    "\n",
    "}"
   ]
  },
  {
   "cell_type": "code",
   "execution_count": 3,
   "metadata": {},
   "outputs": [],
   "source": [
    "def create_agent_sac(state_size,action_size,train_options,gpu=0):\n",
    "    def squashed_diagonal_gaussian_head(x):\n",
    "        assert x.shape[-1] == action_size * 2\n",
    "        mean, log_scale = torch.chunk(x, 2, dim=1)\n",
    "        log_scale = torch.clamp(log_scale, -20.0, 2.0)\n",
    "        var = torch.exp(log_scale * 2)\n",
    "        base_distribution = distributions.Independent(\n",
    "            distributions.Normal(loc=mean, scale=torch.sqrt(var)), 1\n",
    "        )\n",
    "        # cache_size=1 is required for numerical stability\n",
    "        return distributions.transformed_distribution.TransformedDistribution(\n",
    "            base_distribution, [distributions.transforms.TanhTransform(cache_size=1)]\n",
    "        )\n",
    "\n",
    "\n",
    "    #critic_networks\n",
    "    q_func_1 = nn.Sequential(\n",
    "        ConcatObsAndAction(),\n",
    "        nn.Linear(state_size + action_size, 16*state_size),\n",
    "        nn.ReLU(),\n",
    "        nn.Linear(16*state_size, 16*action_size),\n",
    "        nn.ReLU(),\n",
    "        nn.Linear(16*action_size, 1),\n",
    "    )\n",
    "    q_func_2 = nn.Sequential(\n",
    "        ConcatObsAndAction(),\n",
    "        nn.Linear(state_size + action_size, 16*state_size),\n",
    "        nn.ReLU(),\n",
    "        nn.Linear(16*state_size, 16*action_size),\n",
    "        nn.ReLU(),\n",
    "        nn.Linear(16*action_size, 1),\n",
    "    )\n",
    "    \n",
    "    #actor_network\n",
    "    policy = nn.Sequential(\n",
    "        nn.Linear(state_size, 16*state_size),\n",
    "        nn.ReLU(),\n",
    "        nn.Linear(16*state_size, 16*action_size),\n",
    "        nn.ReLU(),\n",
    "        nn.Linear(16*action_size, action_size* 2),\n",
    "        pfrl.nn.lmbda.Lambda(squashed_diagonal_gaussian_head),\n",
    "    )\n",
    "\n",
    "\n",
    "    opt_a = torch.optim.Adam(policy.parameters(), lr=1e-3, weight_decay=1e-3)\n",
    "    opt_c_1 = torch.optim.Adam(q_func_1.parameters(), lr=1e-3, weight_decay=1e-2)\n",
    "    opt_c_2 = torch.optim.Adam(q_func_2.parameters(), lr=1e-3, weight_decay=1e-2)\n",
    "    \n",
    "    rbuf = replay_buffers.ReplayBuffer(train_options['replay_memory_size'])\n",
    "\n",
    "    agent = pfrl.agents.SoftActorCritic(\n",
    "        policy,\n",
    "        q_func_1,\n",
    "        q_func_2,\n",
    "        opt_a,\n",
    "        opt_c_1,\n",
    "        opt_c_2,\n",
    "        rbuf,\n",
    "        gamma=train_options['gamma'],\n",
    "        update_interval=1,\n",
    "        replay_start_size=100,\n",
    "        gpu=gpu,\n",
    "        soft_update_tau= train_options['tau'],\n",
    "        minibatch_size = train_options['minibatch_size'],\n",
    "        entropy_target=-action_size,\n",
    "        temperature_optimizer_lr=1e-3,\n",
    "    )\n",
    "    return agent"
   ]
  },
  {
   "cell_type": "code",
   "execution_count": 4,
   "metadata": {},
   "outputs": [
    {
     "name": "stdout",
     "output_type": "stream",
     "text": [
      "Encoding testing data ...\n"
     ]
    },
    {
     "data": {
      "application/vnd.jupyter.widget-view+json": {
       "model_id": "93765dfbb2184acb9b3315a534458a1f",
       "version_major": 2,
       "version_minor": 0
      },
      "text/plain": [
       "  0%|          | 0/4 [00:00<?, ?it/s]"
      ]
     },
     "metadata": {},
     "output_type": "display_data"
    },
    {
     "name": "stdout",
     "output_type": "stream",
     "text": [
      "finished...\n",
      "Encoding training data ...\n"
     ]
    },
    {
     "data": {
      "application/vnd.jupyter.widget-view+json": {
       "model_id": "11720f06733f452184891f2c53b10241",
       "version_major": 2,
       "version_minor": 0
      },
      "text/plain": [
       "  0%|          | 0/36 [00:00<?, ?it/s]"
      ]
     },
     "metadata": {},
     "output_type": "display_data"
    },
    {
     "name": "stdout",
     "output_type": "stream",
     "text": [
      "finished...\n"
     ]
    }
   ],
   "source": [
    "from envs.photo_env import PhotoEnhancementEnv\n",
    "env = PhotoEnhancementEnv(64)"
   ]
  },
  {
   "cell_type": "code",
   "execution_count": 5,
   "metadata": {},
   "outputs": [
    {
     "name": "stderr",
     "output_type": "stream",
     "text": [
      "/home/zakaria/miniconda3/envs/photoen/lib/python3.11/site-packages/pfrl/replay_buffer.py:180: UserWarning: Creating a tensor from a list of numpy.ndarrays is extremely slow. Please consider converting the list to a single numpy.ndarray with numpy.array() before converting to a tensor. (Triggered internally at ../torch/csrc/utils/tensor_new.cpp:274.)\n",
      "  \"action\": torch.as_tensor(\n"
     ]
    },
    {
     "name": "stdout",
     "output_type": "stream",
     "text": [
      "tensor([-0.5264, -0.2358, -0.4945, -0.4050, -0.4357, -0.1342, -0.4530, -0.3219,\n",
      "        -0.4113, -0.4120, -0.5664, -0.4006, -0.3757, -0.3983, -0.4537, -0.3185,\n",
      "        -0.6678, -0.5228, -0.4673, -0.4227, -0.3658, -0.3754, -0.4243, -0.3456,\n",
      "        -0.6177, -0.3061, -0.3853, -0.2711, -0.4708, -0.4922, -0.2825, -0.5136,\n",
      "        -0.6022, -0.3146, -0.3994, -0.2765, -0.5079, -0.3880, -0.4522, -0.4903,\n",
      "        -0.3782, -0.4390, -0.4811, -0.4507, -0.7097, -0.5293, -0.2938, -0.4309,\n",
      "        -0.4425, -0.5188, -0.5621, -0.3814, -0.4158, -0.4829, -0.4698, -0.4283,\n",
      "        -0.4882, -0.2653, -0.4311, -0.3662, -0.3546, -0.5339, -0.4477, -0.2685])\n",
      "tensor([-0.4683, -0.5954, -0.2804, -0.5853, -0.4061, -0.6482, -0.2889, -0.5263,\n",
      "        -0.4454, -0.3507, -0.3673, -0.6227, -0.4594, -0.3944, -0.3305, -0.4275,\n",
      "        -0.5740, -0.2600, -0.3022, -0.4856, -0.2186, -0.5512, -0.2910, -0.5667,\n",
      "        -0.3125, -0.2349, -0.3296, -0.6392, -0.2509, -0.5585, -0.4085, -0.6118,\n",
      "        -0.5535, -0.4067, -0.4935, -0.4432, -0.3647, -0.3982, -0.6092, -0.3983,\n",
      "        -0.3301, -0.4941, -0.5486, -0.4842, -0.3258, -0.4246, -0.4349, -0.3697,\n",
      "        -0.5110, -0.3314, -0.5045, -0.5189, -0.3230, -0.3430, -0.2843, -0.3639,\n",
      "        -0.3697, -0.6135, -0.5015, -0.5317, -0.2607, -0.4336, -0.4730, -0.4357])\n",
      "tensor([-0.1407, -0.6123, -0.3445, -0.4463, -0.2940, -0.4877, -0.5387, -0.4105,\n",
      "        -0.5635, -0.2651, -0.3573, -0.4124, -0.4083, -0.2301, -0.4826, -0.3925,\n",
      "        -0.4966, -0.4051, -0.3757, -0.4948, -0.4582, -0.5638, -0.7389, -0.4765,\n",
      "        -0.5649, -0.5344, -0.7797, -0.2918, -0.4656, -0.4639, -0.4525, -0.5817,\n",
      "        -0.3471, -0.3185, -0.4521, -0.4526, -0.5012, -0.4364, -0.7884, -0.3787,\n",
      "        -0.2984, -0.3222, -0.3860, -0.5337, -0.6554, -0.4698, -0.4413, -0.4146,\n",
      "        -0.3359, -0.6892, -0.2801, -0.3881, -0.3938, -0.4184, -0.2471, -0.4170,\n",
      "        -0.4336, -0.5465, -0.4721, -0.5241, -0.2292, -0.3875, -0.4545, -0.3076])\n"
     ]
    },
    {
     "ename": "KeyboardInterrupt",
     "evalue": "",
     "output_type": "error",
     "traceback": [
      "\u001b[0;31m---------------------------------------------------------------------------\u001b[0m",
      "\u001b[0;31mKeyboardInterrupt\u001b[0m                         Traceback (most recent call last)",
      "Cell \u001b[0;32mIn[5], line 21\u001b[0m\n\u001b[1;32m     19\u001b[0m batch_done \u001b[38;5;241m=\u001b[39m obs[\u001b[38;5;241m2\u001b[39m]\n\u001b[1;32m     20\u001b[0m batch_reset \u001b[38;5;241m=\u001b[39m [\u001b[38;5;28;01mFalse\u001b[39;00m \u001b[38;5;28;01mfor\u001b[39;00m i \u001b[38;5;129;01min\u001b[39;00m \u001b[38;5;28mrange\u001b[39m(\u001b[38;5;28mlen\u001b[39m(batch_done))]\n\u001b[0;32m---> 21\u001b[0m \u001b[43magent\u001b[49m\u001b[38;5;241;43m.\u001b[39;49m\u001b[43mbatch_observe\u001b[49m\u001b[43m(\u001b[49m\u001b[43mbatch_observation\u001b[49m\u001b[43m \u001b[49m\u001b[43m,\u001b[49m\u001b[43mbatch_rewards\u001b[49m\u001b[43m,\u001b[49m\u001b[43mbatch_done\u001b[49m\u001b[43m,\u001b[49m\u001b[43mbatch_reset\u001b[49m\u001b[43m)\u001b[49m\n\u001b[1;32m     22\u001b[0m episode_count\u001b[38;5;241m+\u001b[39m\u001b[38;5;241m=\u001b[39m\u001b[38;5;241m1\u001b[39m\n\u001b[1;32m     23\u001b[0m \u001b[38;5;28;01mif\u001b[39;00m (batch_done\u001b[38;5;241m==\u001b[39m\u001b[38;5;28;01mTrue\u001b[39;00m)\u001b[38;5;241m.\u001b[39mall()\u001b[38;5;241m==\u001b[39m\u001b[38;5;28;01mTrue\u001b[39;00m \u001b[38;5;129;01mor\u001b[39;00m episode_count\u001b[38;5;241m==\u001b[39m\u001b[38;5;241m10\u001b[39m:\n",
      "File \u001b[0;32m~/miniconda3/envs/photoen/lib/python3.11/site-packages/pfrl/agents/soft_actor_critic.py:335\u001b[0m, in \u001b[0;36mSoftActorCritic.batch_observe\u001b[0;34m(self, batch_obs, batch_reward, batch_done, batch_reset)\u001b[0m\n\u001b[1;32m    333\u001b[0m \u001b[38;5;28;01mdef\u001b[39;00m \u001b[38;5;21mbatch_observe\u001b[39m(\u001b[38;5;28mself\u001b[39m, batch_obs, batch_reward, batch_done, batch_reset):\n\u001b[1;32m    334\u001b[0m     \u001b[38;5;28;01mif\u001b[39;00m \u001b[38;5;28mself\u001b[39m\u001b[38;5;241m.\u001b[39mtraining:\n\u001b[0;32m--> 335\u001b[0m         \u001b[38;5;28;43mself\u001b[39;49m\u001b[38;5;241;43m.\u001b[39;49m\u001b[43m_batch_observe_train\u001b[49m\u001b[43m(\u001b[49m\u001b[43mbatch_obs\u001b[49m\u001b[43m,\u001b[49m\u001b[43m \u001b[49m\u001b[43mbatch_reward\u001b[49m\u001b[43m,\u001b[49m\u001b[43m \u001b[49m\u001b[43mbatch_done\u001b[49m\u001b[43m,\u001b[49m\u001b[43m \u001b[49m\u001b[43mbatch_reset\u001b[49m\u001b[43m)\u001b[49m\n",
      "File \u001b[0;32m~/miniconda3/envs/photoen/lib/python3.11/site-packages/pfrl/agents/soft_actor_critic.py:374\u001b[0m, in \u001b[0;36mSoftActorCritic._batch_observe_train\u001b[0;34m(self, batch_obs, batch_reward, batch_done, batch_reset)\u001b[0m\n\u001b[1;32m    372\u001b[0m         \u001b[38;5;28mself\u001b[39m\u001b[38;5;241m.\u001b[39mbatch_last_action[i] \u001b[38;5;241m=\u001b[39m \u001b[38;5;28;01mNone\u001b[39;00m\n\u001b[1;32m    373\u001b[0m         \u001b[38;5;28mself\u001b[39m\u001b[38;5;241m.\u001b[39mreplay_buffer\u001b[38;5;241m.\u001b[39mstop_current_episode(env_id\u001b[38;5;241m=\u001b[39mi)\n\u001b[0;32m--> 374\u001b[0m \u001b[38;5;28;43mself\u001b[39;49m\u001b[38;5;241;43m.\u001b[39;49m\u001b[43mreplay_updater\u001b[49m\u001b[38;5;241;43m.\u001b[39;49m\u001b[43mupdate_if_necessary\u001b[49m\u001b[43m(\u001b[49m\u001b[38;5;28;43mself\u001b[39;49m\u001b[38;5;241;43m.\u001b[39;49m\u001b[43mt\u001b[49m\u001b[43m)\u001b[49m\n",
      "File \u001b[0;32m~/miniconda3/envs/photoen/lib/python3.11/site-packages/pfrl/replay_buffer.py:355\u001b[0m, in \u001b[0;36mReplayUpdater.update_if_necessary\u001b[0;34m(self, iteration)\u001b[0m\n\u001b[1;32m    353\u001b[0m     \u001b[38;5;28;01melse\u001b[39;00m:\n\u001b[1;32m    354\u001b[0m         transitions \u001b[38;5;241m=\u001b[39m \u001b[38;5;28mself\u001b[39m\u001b[38;5;241m.\u001b[39mreplay_buffer\u001b[38;5;241m.\u001b[39msample(\u001b[38;5;28mself\u001b[39m\u001b[38;5;241m.\u001b[39mbatchsize)\n\u001b[0;32m--> 355\u001b[0m         \u001b[38;5;28;43mself\u001b[39;49m\u001b[38;5;241;43m.\u001b[39;49m\u001b[43mupdate_func\u001b[49m\u001b[43m(\u001b[49m\u001b[43mtransitions\u001b[49m\u001b[43m)\u001b[49m\n\u001b[1;32m    356\u001b[0m \u001b[38;5;28;01mreturn\u001b[39;00m \u001b[38;5;28;01mTrue\u001b[39;00m\n",
      "File \u001b[0;32m~/miniconda3/envs/photoen/lib/python3.11/site-packages/pfrl/agents/soft_actor_critic.py:314\u001b[0m, in \u001b[0;36mSoftActorCritic.update\u001b[0;34m(self, experiences, errors_out)\u001b[0m\n\u001b[1;32m    312\u001b[0m batch \u001b[38;5;241m=\u001b[39m batch_experiences(experiences, \u001b[38;5;28mself\u001b[39m\u001b[38;5;241m.\u001b[39mdevice, \u001b[38;5;28mself\u001b[39m\u001b[38;5;241m.\u001b[39mphi, \u001b[38;5;28mself\u001b[39m\u001b[38;5;241m.\u001b[39mgamma)\n\u001b[1;32m    313\u001b[0m \u001b[38;5;28mself\u001b[39m\u001b[38;5;241m.\u001b[39mupdate_q_func(batch)\n\u001b[0;32m--> 314\u001b[0m \u001b[38;5;28;43mself\u001b[39;49m\u001b[38;5;241;43m.\u001b[39;49m\u001b[43mupdate_policy_and_temperature\u001b[49m\u001b[43m(\u001b[49m\u001b[43mbatch\u001b[49m\u001b[43m)\u001b[49m\n\u001b[1;32m    315\u001b[0m \u001b[38;5;28mself\u001b[39m\u001b[38;5;241m.\u001b[39msync_target_network()\n",
      "File \u001b[0;32m~/miniconda3/envs/photoen/lib/python3.11/site-packages/pfrl/agents/soft_actor_critic.py:278\u001b[0m, in \u001b[0;36mSoftActorCritic.update_policy_and_temperature\u001b[0;34m(self, batch)\u001b[0m\n\u001b[1;32m    274\u001b[0m \u001b[38;5;250m\u001b[39m\u001b[38;5;124;03m\"\"\"Compute loss for actor.\"\"\"\u001b[39;00m\n\u001b[1;32m    276\u001b[0m batch_state \u001b[38;5;241m=\u001b[39m batch[\u001b[38;5;124m\"\u001b[39m\u001b[38;5;124mstate\u001b[39m\u001b[38;5;124m\"\u001b[39m]\n\u001b[0;32m--> 278\u001b[0m action_distrib \u001b[38;5;241m=\u001b[39m \u001b[38;5;28;43mself\u001b[39;49m\u001b[38;5;241;43m.\u001b[39;49m\u001b[43mpolicy\u001b[49m\u001b[43m(\u001b[49m\u001b[43mbatch_state\u001b[49m\u001b[43m)\u001b[49m\n\u001b[1;32m    279\u001b[0m actions \u001b[38;5;241m=\u001b[39m action_distrib\u001b[38;5;241m.\u001b[39mrsample()\n\u001b[1;32m    280\u001b[0m log_prob \u001b[38;5;241m=\u001b[39m action_distrib\u001b[38;5;241m.\u001b[39mlog_prob(actions)\n",
      "File \u001b[0;32m~/miniconda3/envs/photoen/lib/python3.11/site-packages/torch/nn/modules/module.py:1532\u001b[0m, in \u001b[0;36mModule._wrapped_call_impl\u001b[0;34m(self, *args, **kwargs)\u001b[0m\n\u001b[1;32m   1530\u001b[0m     \u001b[38;5;28;01mreturn\u001b[39;00m \u001b[38;5;28mself\u001b[39m\u001b[38;5;241m.\u001b[39m_compiled_call_impl(\u001b[38;5;241m*\u001b[39margs, \u001b[38;5;241m*\u001b[39m\u001b[38;5;241m*\u001b[39mkwargs)  \u001b[38;5;66;03m# type: ignore[misc]\u001b[39;00m\n\u001b[1;32m   1531\u001b[0m \u001b[38;5;28;01melse\u001b[39;00m:\n\u001b[0;32m-> 1532\u001b[0m     \u001b[38;5;28;01mreturn\u001b[39;00m \u001b[38;5;28;43mself\u001b[39;49m\u001b[38;5;241;43m.\u001b[39;49m\u001b[43m_call_impl\u001b[49m\u001b[43m(\u001b[49m\u001b[38;5;241;43m*\u001b[39;49m\u001b[43margs\u001b[49m\u001b[43m,\u001b[49m\u001b[43m \u001b[49m\u001b[38;5;241;43m*\u001b[39;49m\u001b[38;5;241;43m*\u001b[39;49m\u001b[43mkwargs\u001b[49m\u001b[43m)\u001b[49m\n",
      "File \u001b[0;32m~/miniconda3/envs/photoen/lib/python3.11/site-packages/torch/nn/modules/module.py:1541\u001b[0m, in \u001b[0;36mModule._call_impl\u001b[0;34m(self, *args, **kwargs)\u001b[0m\n\u001b[1;32m   1536\u001b[0m \u001b[38;5;66;03m# If we don't have any hooks, we want to skip the rest of the logic in\u001b[39;00m\n\u001b[1;32m   1537\u001b[0m \u001b[38;5;66;03m# this function, and just call forward.\u001b[39;00m\n\u001b[1;32m   1538\u001b[0m \u001b[38;5;28;01mif\u001b[39;00m \u001b[38;5;129;01mnot\u001b[39;00m (\u001b[38;5;28mself\u001b[39m\u001b[38;5;241m.\u001b[39m_backward_hooks \u001b[38;5;129;01mor\u001b[39;00m \u001b[38;5;28mself\u001b[39m\u001b[38;5;241m.\u001b[39m_backward_pre_hooks \u001b[38;5;129;01mor\u001b[39;00m \u001b[38;5;28mself\u001b[39m\u001b[38;5;241m.\u001b[39m_forward_hooks \u001b[38;5;129;01mor\u001b[39;00m \u001b[38;5;28mself\u001b[39m\u001b[38;5;241m.\u001b[39m_forward_pre_hooks\n\u001b[1;32m   1539\u001b[0m         \u001b[38;5;129;01mor\u001b[39;00m _global_backward_pre_hooks \u001b[38;5;129;01mor\u001b[39;00m _global_backward_hooks\n\u001b[1;32m   1540\u001b[0m         \u001b[38;5;129;01mor\u001b[39;00m _global_forward_hooks \u001b[38;5;129;01mor\u001b[39;00m _global_forward_pre_hooks):\n\u001b[0;32m-> 1541\u001b[0m     \u001b[38;5;28;01mreturn\u001b[39;00m \u001b[43mforward_call\u001b[49m\u001b[43m(\u001b[49m\u001b[38;5;241;43m*\u001b[39;49m\u001b[43margs\u001b[49m\u001b[43m,\u001b[49m\u001b[43m \u001b[49m\u001b[38;5;241;43m*\u001b[39;49m\u001b[38;5;241;43m*\u001b[39;49m\u001b[43mkwargs\u001b[49m\u001b[43m)\u001b[49m\n\u001b[1;32m   1543\u001b[0m \u001b[38;5;28;01mtry\u001b[39;00m:\n\u001b[1;32m   1544\u001b[0m     result \u001b[38;5;241m=\u001b[39m \u001b[38;5;28;01mNone\u001b[39;00m\n",
      "File \u001b[0;32m~/miniconda3/envs/photoen/lib/python3.11/site-packages/torch/nn/modules/container.py:217\u001b[0m, in \u001b[0;36mSequential.forward\u001b[0;34m(self, input)\u001b[0m\n\u001b[1;32m    215\u001b[0m \u001b[38;5;28;01mdef\u001b[39;00m \u001b[38;5;21mforward\u001b[39m(\u001b[38;5;28mself\u001b[39m, \u001b[38;5;28minput\u001b[39m):\n\u001b[1;32m    216\u001b[0m     \u001b[38;5;28;01mfor\u001b[39;00m module \u001b[38;5;129;01min\u001b[39;00m \u001b[38;5;28mself\u001b[39m:\n\u001b[0;32m--> 217\u001b[0m         \u001b[38;5;28minput\u001b[39m \u001b[38;5;241m=\u001b[39m \u001b[43mmodule\u001b[49m\u001b[43m(\u001b[49m\u001b[38;5;28;43minput\u001b[39;49m\u001b[43m)\u001b[49m\n\u001b[1;32m    218\u001b[0m     \u001b[38;5;28;01mreturn\u001b[39;00m \u001b[38;5;28minput\u001b[39m\n",
      "File \u001b[0;32m~/miniconda3/envs/photoen/lib/python3.11/site-packages/torch/nn/modules/module.py:1532\u001b[0m, in \u001b[0;36mModule._wrapped_call_impl\u001b[0;34m(self, *args, **kwargs)\u001b[0m\n\u001b[1;32m   1530\u001b[0m     \u001b[38;5;28;01mreturn\u001b[39;00m \u001b[38;5;28mself\u001b[39m\u001b[38;5;241m.\u001b[39m_compiled_call_impl(\u001b[38;5;241m*\u001b[39margs, \u001b[38;5;241m*\u001b[39m\u001b[38;5;241m*\u001b[39mkwargs)  \u001b[38;5;66;03m# type: ignore[misc]\u001b[39;00m\n\u001b[1;32m   1531\u001b[0m \u001b[38;5;28;01melse\u001b[39;00m:\n\u001b[0;32m-> 1532\u001b[0m     \u001b[38;5;28;01mreturn\u001b[39;00m \u001b[38;5;28;43mself\u001b[39;49m\u001b[38;5;241;43m.\u001b[39;49m\u001b[43m_call_impl\u001b[49m\u001b[43m(\u001b[49m\u001b[38;5;241;43m*\u001b[39;49m\u001b[43margs\u001b[49m\u001b[43m,\u001b[49m\u001b[43m \u001b[49m\u001b[38;5;241;43m*\u001b[39;49m\u001b[38;5;241;43m*\u001b[39;49m\u001b[43mkwargs\u001b[49m\u001b[43m)\u001b[49m\n",
      "File \u001b[0;32m~/miniconda3/envs/photoen/lib/python3.11/site-packages/torch/nn/modules/module.py:1541\u001b[0m, in \u001b[0;36mModule._call_impl\u001b[0;34m(self, *args, **kwargs)\u001b[0m\n\u001b[1;32m   1536\u001b[0m \u001b[38;5;66;03m# If we don't have any hooks, we want to skip the rest of the logic in\u001b[39;00m\n\u001b[1;32m   1537\u001b[0m \u001b[38;5;66;03m# this function, and just call forward.\u001b[39;00m\n\u001b[1;32m   1538\u001b[0m \u001b[38;5;28;01mif\u001b[39;00m \u001b[38;5;129;01mnot\u001b[39;00m (\u001b[38;5;28mself\u001b[39m\u001b[38;5;241m.\u001b[39m_backward_hooks \u001b[38;5;129;01mor\u001b[39;00m \u001b[38;5;28mself\u001b[39m\u001b[38;5;241m.\u001b[39m_backward_pre_hooks \u001b[38;5;129;01mor\u001b[39;00m \u001b[38;5;28mself\u001b[39m\u001b[38;5;241m.\u001b[39m_forward_hooks \u001b[38;5;129;01mor\u001b[39;00m \u001b[38;5;28mself\u001b[39m\u001b[38;5;241m.\u001b[39m_forward_pre_hooks\n\u001b[1;32m   1539\u001b[0m         \u001b[38;5;129;01mor\u001b[39;00m _global_backward_pre_hooks \u001b[38;5;129;01mor\u001b[39;00m _global_backward_hooks\n\u001b[1;32m   1540\u001b[0m         \u001b[38;5;129;01mor\u001b[39;00m _global_forward_hooks \u001b[38;5;129;01mor\u001b[39;00m _global_forward_pre_hooks):\n\u001b[0;32m-> 1541\u001b[0m     \u001b[38;5;28;01mreturn\u001b[39;00m \u001b[43mforward_call\u001b[49m\u001b[43m(\u001b[49m\u001b[38;5;241;43m*\u001b[39;49m\u001b[43margs\u001b[49m\u001b[43m,\u001b[49m\u001b[43m \u001b[49m\u001b[38;5;241;43m*\u001b[39;49m\u001b[38;5;241;43m*\u001b[39;49m\u001b[43mkwargs\u001b[49m\u001b[43m)\u001b[49m\n\u001b[1;32m   1543\u001b[0m \u001b[38;5;28;01mtry\u001b[39;00m:\n\u001b[1;32m   1544\u001b[0m     result \u001b[38;5;241m=\u001b[39m \u001b[38;5;28;01mNone\u001b[39;00m\n",
      "File \u001b[0;32m~/miniconda3/envs/photoen/lib/python3.11/site-packages/pfrl/nn/lmbda.py:20\u001b[0m, in \u001b[0;36mLambda.forward\u001b[0;34m(self, x)\u001b[0m\n\u001b[1;32m     19\u001b[0m \u001b[38;5;28;01mdef\u001b[39;00m \u001b[38;5;21mforward\u001b[39m(\u001b[38;5;28mself\u001b[39m, x):\n\u001b[0;32m---> 20\u001b[0m     \u001b[38;5;28;01mreturn\u001b[39;00m \u001b[38;5;28;43mself\u001b[39;49m\u001b[38;5;241;43m.\u001b[39;49m\u001b[43mlambd\u001b[49m\u001b[43m(\u001b[49m\u001b[43mx\u001b[49m\u001b[43m)\u001b[49m\n",
      "Cell \u001b[0;32mIn[3], line 8\u001b[0m, in \u001b[0;36mcreate_agent_sac.<locals>.squashed_diagonal_gaussian_head\u001b[0;34m(x)\u001b[0m\n\u001b[1;32m      5\u001b[0m log_scale \u001b[38;5;241m=\u001b[39m torch\u001b[38;5;241m.\u001b[39mclamp(log_scale, \u001b[38;5;241m-\u001b[39m\u001b[38;5;241m20.0\u001b[39m, \u001b[38;5;241m2.0\u001b[39m)\n\u001b[1;32m      6\u001b[0m var \u001b[38;5;241m=\u001b[39m torch\u001b[38;5;241m.\u001b[39mexp(log_scale \u001b[38;5;241m*\u001b[39m \u001b[38;5;241m2\u001b[39m)\n\u001b[1;32m      7\u001b[0m base_distribution \u001b[38;5;241m=\u001b[39m distributions\u001b[38;5;241m.\u001b[39mIndependent(\n\u001b[0;32m----> 8\u001b[0m     \u001b[43mdistributions\u001b[49m\u001b[38;5;241;43m.\u001b[39;49m\u001b[43mNormal\u001b[49m\u001b[43m(\u001b[49m\u001b[43mloc\u001b[49m\u001b[38;5;241;43m=\u001b[39;49m\u001b[43mmean\u001b[49m\u001b[43m,\u001b[49m\u001b[43m \u001b[49m\u001b[43mscale\u001b[49m\u001b[38;5;241;43m=\u001b[39;49m\u001b[43mtorch\u001b[49m\u001b[38;5;241;43m.\u001b[39;49m\u001b[43msqrt\u001b[49m\u001b[43m(\u001b[49m\u001b[43mvar\u001b[49m\u001b[43m)\u001b[49m\u001b[43m)\u001b[49m, \u001b[38;5;241m1\u001b[39m\n\u001b[1;32m      9\u001b[0m )\n\u001b[1;32m     10\u001b[0m \u001b[38;5;66;03m# cache_size=1 is required for numerical stability\u001b[39;00m\n\u001b[1;32m     11\u001b[0m \u001b[38;5;28;01mreturn\u001b[39;00m distributions\u001b[38;5;241m.\u001b[39mtransformed_distribution\u001b[38;5;241m.\u001b[39mTransformedDistribution(\n\u001b[1;32m     12\u001b[0m     base_distribution, [distributions\u001b[38;5;241m.\u001b[39mtransforms\u001b[38;5;241m.\u001b[39mTanhTransform(cache_size\u001b[38;5;241m=\u001b[39m\u001b[38;5;241m1\u001b[39m)]\n\u001b[1;32m     13\u001b[0m )\n",
      "File \u001b[0;32m~/miniconda3/envs/photoen/lib/python3.11/site-packages/torch/distributions/normal.py:56\u001b[0m, in \u001b[0;36mNormal.__init__\u001b[0;34m(self, loc, scale, validate_args)\u001b[0m\n\u001b[1;32m     54\u001b[0m \u001b[38;5;28;01melse\u001b[39;00m:\n\u001b[1;32m     55\u001b[0m     batch_shape \u001b[38;5;241m=\u001b[39m \u001b[38;5;28mself\u001b[39m\u001b[38;5;241m.\u001b[39mloc\u001b[38;5;241m.\u001b[39msize()\n\u001b[0;32m---> 56\u001b[0m \u001b[38;5;28;43msuper\u001b[39;49m\u001b[43m(\u001b[49m\u001b[43m)\u001b[49m\u001b[38;5;241;43m.\u001b[39;49m\u001b[38;5;21;43m__init__\u001b[39;49m\u001b[43m(\u001b[49m\u001b[43mbatch_shape\u001b[49m\u001b[43m,\u001b[49m\u001b[43m \u001b[49m\u001b[43mvalidate_args\u001b[49m\u001b[38;5;241;43m=\u001b[39;49m\u001b[43mvalidate_args\u001b[49m\u001b[43m)\u001b[49m\n",
      "File \u001b[0;32m~/miniconda3/envs/photoen/lib/python3.11/site-packages/torch/distributions/distribution.py:67\u001b[0m, in \u001b[0;36mDistribution.__init__\u001b[0;34m(self, batch_shape, event_shape, validate_args)\u001b[0m\n\u001b[1;32m     65\u001b[0m         value \u001b[38;5;241m=\u001b[39m \u001b[38;5;28mgetattr\u001b[39m(\u001b[38;5;28mself\u001b[39m, param)\n\u001b[1;32m     66\u001b[0m         valid \u001b[38;5;241m=\u001b[39m constraint\u001b[38;5;241m.\u001b[39mcheck(value)\n\u001b[0;32m---> 67\u001b[0m         \u001b[38;5;28;01mif\u001b[39;00m \u001b[38;5;129;01mnot\u001b[39;00m valid\u001b[38;5;241m.\u001b[39mall():\n\u001b[1;32m     68\u001b[0m             \u001b[38;5;28;01mraise\u001b[39;00m \u001b[38;5;167;01mValueError\u001b[39;00m(\n\u001b[1;32m     69\u001b[0m                 \u001b[38;5;124mf\u001b[39m\u001b[38;5;124m\"\u001b[39m\u001b[38;5;124mExpected parameter \u001b[39m\u001b[38;5;132;01m{\u001b[39;00mparam\u001b[38;5;132;01m}\u001b[39;00m\u001b[38;5;124m \u001b[39m\u001b[38;5;124m\"\u001b[39m\n\u001b[1;32m     70\u001b[0m                 \u001b[38;5;124mf\u001b[39m\u001b[38;5;124m\"\u001b[39m\u001b[38;5;124m(\u001b[39m\u001b[38;5;132;01m{\u001b[39;00m\u001b[38;5;28mtype\u001b[39m(value)\u001b[38;5;241m.\u001b[39m\u001b[38;5;18m__name__\u001b[39m\u001b[38;5;132;01m}\u001b[39;00m\u001b[38;5;124m of shape \u001b[39m\u001b[38;5;132;01m{\u001b[39;00m\u001b[38;5;28mtuple\u001b[39m(value\u001b[38;5;241m.\u001b[39mshape)\u001b[38;5;132;01m}\u001b[39;00m\u001b[38;5;124m) \u001b[39m\u001b[38;5;124m\"\u001b[39m\n\u001b[0;32m   (...)\u001b[0m\n\u001b[1;32m     73\u001b[0m                 \u001b[38;5;124mf\u001b[39m\u001b[38;5;124m\"\u001b[39m\u001b[38;5;124mbut found invalid values:\u001b[39m\u001b[38;5;130;01m\\n\u001b[39;00m\u001b[38;5;132;01m{\u001b[39;00mvalue\u001b[38;5;132;01m}\u001b[39;00m\u001b[38;5;124m\"\u001b[39m\n\u001b[1;32m     74\u001b[0m             )\n\u001b[1;32m     75\u001b[0m \u001b[38;5;28msuper\u001b[39m()\u001b[38;5;241m.\u001b[39m\u001b[38;5;21m__init__\u001b[39m()\n",
      "\u001b[0;31mKeyboardInterrupt\u001b[0m: "
     ]
    }
   ],
   "source": [
    "EPISODES = 1000\n",
    "agent = create_agent_sac(512*2,env.num_parameters,train_options)\n",
    "for i in range(EPISODES):\n",
    "    obs = env.reset()\n",
    "    obs=[obs]\n",
    "    episode_count = 0\n",
    "    while True:\n",
    "        encoded_source_image = obs[0]['encoded_source']\n",
    "        encoded_enhanced_image = obs[0]['encoded_enhanced_image']\n",
    "        batch_observation = torch.cat((encoded_source_image,encoded_enhanced_image),dim=1)\n",
    "        batch_actions = torch.tensor(agent.batch_act(batch_observation))\n",
    "\n",
    "\n",
    "        obs = env.step(batch_actions)\n",
    "        encoded_source_image = obs[0]['encoded_source']\n",
    "        encoded_enhanced_image = obs[0]['encoded_enhanced_image']\n",
    "        batch_observation = torch.cat((encoded_source_image,encoded_enhanced_image),dim=1)\n",
    "        batch_rewards =  obs[1]\n",
    "        batch_done = obs[2]\n",
    "        batch_reset = [False for i in range(len(batch_done))]\n",
    "        agent.batch_observe(batch_observation ,batch_rewards,batch_done,batch_reset)\n",
    "        episode_count+=1\n",
    "        if (batch_done==True).all()==True or episode_count==10:\n",
    "            print(batch_rewards)\n",
    "            break      "
   ]
  }
 ],
 "metadata": {
  "kernelspec": {
   "display_name": "photoen",
   "language": "python",
   "name": "python3"
  },
  "language_info": {
   "codemirror_mode": {
    "name": "ipython",
    "version": 3
   },
   "file_extension": ".py",
   "mimetype": "text/x-python",
   "name": "python",
   "nbconvert_exporter": "python",
   "pygments_lexer": "ipython3",
   "version": "3.11.9"
  }
 },
 "nbformat": 4,
 "nbformat_minor": 2
}
