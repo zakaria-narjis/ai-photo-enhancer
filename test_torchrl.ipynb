{
 "cells": [
  {
   "cell_type": "code",
   "execution_count": 1,
   "metadata": {},
   "outputs": [],
   "source": [
    "import torch\n",
    "from torch import nn\n",
    "from torchrl.data import BoundedTensorSpec\n",
    "from torchrl.modules.distributions.continuous import NormalParamWrapper, TanhNormal\n",
    "from torchrl.modules.tensordict_module.actors import ProbabilisticActor, ValueOperator\n",
    "from torchrl.modules.tensordict_module.common import SafeModule\n",
    "from torchrl.objectives.sac import SACLoss\n",
    "from tensordict import TensorDict"
   ]
  },
  {
   "cell_type": "code",
   "execution_count": null,
   "metadata": {},
   "outputs": [],
   "source": [
    "n_act, n_obs = 512, 15\n",
    "spec = BoundedTensorSpec(-torch.ones(n_act), torch.ones(n_act), (n_act,))\n",
    "\n",
    "net = NormalParamWrapper(nn.Linear(n_obs, 2 * n_act))\n",
    "module = SafeModule(net, in_keys=[\"observation\"], out_keys=[\"loc\", \"scale\"])"
   ]
  }
 ],
 "metadata": {
  "kernelspec": {
   "display_name": "photoen",
   "language": "python",
   "name": "python3"
  },
  "language_info": {
   "codemirror_mode": {
    "name": "ipython",
    "version": 3
   },
   "file_extension": ".py",
   "mimetype": "text/x-python",
   "name": "python",
   "nbconvert_exporter": "python",
   "pygments_lexer": "ipython3",
   "version": "3.11.9"
  }
 },
 "nbformat": 4,
 "nbformat_minor": 2
}
